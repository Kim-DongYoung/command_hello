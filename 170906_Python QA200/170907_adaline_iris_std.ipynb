{
 "cells": [
  {
   "cell_type": "code",
   "execution_count": 1,
   "metadata": {
    "collapsed": true
   },
   "outputs": [],
   "source": [
    "%matplotlib inline\n",
    "\n",
    "import pandas as pd\n",
    "import matplotlib\n",
    "import matplotlib.pyplot as plt\n",
    "import numpy as np\n",
    "\n",
    "from matplotlib import style\n",
    "from mylib.adaline import AdalineGD"
   ]
  },
  {
   "cell_type": "code",
   "execution_count": 5,
   "metadata": {},
   "outputs": [
    {
     "data": {
      "image/png": "[encoded data removed]",
      "text/plain": [
       "<matplotlib.figure.Figure at 0x1a5ab17c390>"
      ]
     },
     "metadata": {},
     "output_type": "display_data"
    }
   ],
   "source": [
    "if __name__ == '__main__':\n",
    "    df = pd.read_csv('https://archive.ics.uci.edu/ml/machine-learning-databases/iris/iris.data', header=None)\n",
    "    y = df.iloc[0:100, 4].values\n",
    "    y = np.where(y=='Iris-setosa', -1, 1)\n",
    "    X = df.iloc[0:100, [0, 2]].values\n",
    "    \n",
    "    # X를 X_std에 하나 복사\n",
    "    # X_std = X 와 무엇이 다르지?\n",
    "    X_std = np.copy(X)\n",
    "\n",
    "    # 표준화(standardization)\n",
    "    X_std[:,0] = (X[:, 0] - X[:, 0].mean()) / X[:, 0].std()\n",
    "    X_std[:,1] = (X[:, 1] - X[:, 1].mean()) / X[:, 1].std()\n",
    "    \n",
    "    # Learning rate 값을 0.01에 두어도 발산하지 않는 것을 볼 수 있다.\n",
    "    # 모든 트레이닝 데이터를 한꺼번에 일괄 적용하여 학습에 수행하였음.\n",
    "    # 이를 배치 경사하강법(Batch Gradient Descent)라고 부른다.\n",
    "    # 다만 데이터의 개수가 매우 많아질 경우 머신러닝이 비효율적이게 된다.\n",
    "    adal = AdalineGD(eta=0.01, n_iter=15).fit(X_std, y)\n",
    "    plt.plot(range(1, len(adal.cost_) + 1), adal.cost_, marker='o')\n",
    "    plt.xlabel('Epochs')\n",
    "    plt.ylabel('SSE')\n",
    "    plt.title('Adaline Standardized - Learning rate 0.01')    \n",
    "    plt.show()"
   ]
  },
  {
   "cell_type": "code",
   "execution_count": null,
   "metadata": {
    "collapsed": true
   },
   "outputs": [],
   "source": []
  }
 ],
 "metadata": {
  "kernelspec": {
   "display_name": "Python [conda env:tensorflow]",
   "language": "python",
   "name": "conda-env-tensorflow-py"
  },
  "language_info": {
   "codemirror_mode": {
    "name": "ipython",
    "version": 3
   },
   "file_extension": ".py",
   "mimetype": "text/x-python",
   "name": "python",
   "nbconvert_exporter": "python",
   "pygments_lexer": "ipython3",
   "version": "3.5.3"
  }
 },
 "nbformat": 4,
 "nbformat_minor": 2
}
