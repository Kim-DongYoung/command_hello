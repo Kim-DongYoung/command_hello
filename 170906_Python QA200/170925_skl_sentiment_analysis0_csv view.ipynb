{
 "cells": [
  {
   "cell_type": "code",
   "execution_count": 5,
   "metadata": {},
   "outputs": [
    {
     "name": "stderr",
     "output_type": "stream",
     "text": [
      "C:\\Program Files\\Anaconda3\\envs\\tensorflow\\lib\\site-packages\\ipykernel\\__main__.py:4: ParserWarning: Falling back to the 'python' engine because the 'c' engine does not support regex separators (separators > 1 char and different from '\\s+' are interpreted as regex); you can avoid this warning by specifying engine='python'.\n"
     ]
    },
    {
     "name": "stdout",
     "output_type": "stream",
     "text": [
      "                                    review,sentiment\n",
      "0  \"In 1974, the teenager Martha Moxley (Maggie G...\n",
      "1  \"OK... so... I really like Kris Kristofferson ...\n",
      "2  \"***SPOILER*** Do not read this, if you think ...\n",
      "3  hi for all the people who have seen this wonde...\n",
      "4  \"I recently bought the DVD, forgetting just ho...\n",
      "                                        review,sentiment\n",
      "49995  \"OK, lets start with the best. the building. a...\n",
      "49996  \"The British 'heritage film' industry is out o...\n",
      "49997  \"I don't even know where to begin on this one....\n",
      "49998  \"Richard Tyler is a little boy who is scared o...\n",
      "49999  \"I waited long to watch this movie. Also becau...\n"
     ]
    }
   ],
   "source": [
    "import pandas as pd\n",
    "\n",
    "df = pd.DataFrame()\n",
    "df = pd.read_csv('./data/170925_movie_review.csv', 'utf-8')\n",
    "# 아래 코드 사용시 encoding문제 발생\n",
    "# UnicodeDecodeError: 'utf-8' codec can't decode byte 0xa2 in position 2418: invalid start byte\n",
    "# df = pd.read_csv('./data/170925_movie_review.csv')\n",
    "print(df.head())\n",
    "print(df.tail())"
   ]
  },
  {
   "cell_type": "code",
   "execution_count": null,
   "metadata": {
    "collapsed": true
   },
   "outputs": [],
   "source": []
  }
 ],
 "metadata": {
  "kernelspec": {
   "display_name": "Python 3",
   "language": "python",
   "name": "python3"
  },
  "language_info": {
   "codemirror_mode": {
    "name": "ipython",
    "version": 3
   },
   "file_extension": ".py",
   "mimetype": "text/x-python",
   "name": "python",
   "nbconvert_exporter": "python",
   "pygments_lexer": "ipython3",
   "version": "3.5.3"
  }
 },
 "nbformat": 4,
 "nbformat_minor": 2
}
