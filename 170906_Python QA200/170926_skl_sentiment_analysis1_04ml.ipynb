{
 "cells": [
  {
   "cell_type": "code",
   "execution_count": 1,
   "metadata": {},
   "outputs": [
    {
     "name": "stdout",
     "output_type": "stream",
     "text": [
      "머신러닝 시작\n",
      "머신러닝 종료\n",
      "테스트 종료: 소요시간 [12]초\n",
      "정확도 : 0.950\n",
      "머신러닝 데이터 저장 완료\n"
     ]
    }
   ],
   "source": [
    "# 전처리된 영화 리뷰 데이터 35000개를 이용해 머신러닝을 수행하고\n",
    "# 머신러닝한 결과는 나머지 15000개의 리뷰 데이터로 검증한 후\n",
    "# 머신러닝 결과는 pickle 모듈의 dump()를 이용해 파일로 저장하는 코드\n",
    "\n",
    "from sklearn.pipeline import Pipeline\n",
    "from sklearn.linear_model import LogisticRegression\n",
    "from sklearn.feature_extraction.text import TfidfVectorizer\n",
    "from sklearn.metrics import accuracy_score\n",
    "import pickle\n",
    "import os\n",
    "from time import time\n",
    "import pandas as pd\n",
    "from mylib.tokenizer import tokenizer, tokenizer_porter\n",
    "\n",
    "df = pd.read_csv('./data/170925_movie_review_refiend.csv', encoding='CP949')\n",
    "\n",
    "X_train = df.loc[:35000, 'review'].values\n",
    "y_train = df.loc[:35000, 'sentiment'].values\n",
    "X_test = df.loc[15000:, 'review'].values\n",
    "y_test = df.loc[15000:, 'sentiment'].values\n",
    "\n",
    "tfidf = TfidfVectorizer(lowercase=False, tokenizer=tokenizer)\n",
    "\n",
    "# Pipeline()의 인자인 리스트는 그 요소로 ('함수별명', 함수)와 같은 튜플로 되어 있어야 함.\n",
    "lr_tfidf = Pipeline([('vect', tfidf), ('clf', LogisticRegression(C=10.0, penalty='l2', random_state=0))])\n",
    "\n",
    "stime = time()\n",
    "print('머신러닝 시작')\n",
    "lr_tfidf.fit(X_train, y_train)\n",
    "print('머신러닝 종료')\n",
    "\n",
    "y_pred = lr_tfidf.predict(X_test)\n",
    "print('테스트 종료: 소요시간 [%d]초' %(time()-stime))\n",
    "print('정확도 : %.3f' %accuracy_score(y_test, y_pred))\n",
    "\n",
    "# 머신러닝 결과를 파일로 저장\n",
    "curDir = os.getcwd()\n",
    "dest = os.path.join(curDir, 'data', 'pklObject')\n",
    "if not os.path.exists(dest):\n",
    "    os.makedirs(dest)\n",
    "    \n",
    "pickle.dump(lr_tfidf, open(os.path.join(dest, 'classifier.pkl'), 'wb'), protocol=4)\n",
    "print('머신러닝 데이터 저장 완료')"
   ]
  },
  {
   "cell_type": "code",
   "execution_count": null,
   "metadata": {
    "collapsed": true
   },
   "outputs": [],
   "source": []
  }
 ],
 "metadata": {
  "kernelspec": {
   "display_name": "Python 3",
   "language": "python",
   "name": "python3"
  },
  "language_info": {
   "codemirror_mode": {
    "name": "ipython",
    "version": 3
   },
   "file_extension": ".py",
   "mimetype": "text/x-python",
   "name": "python",
   "nbconvert_exporter": "python",
   "pygments_lexer": "ipython3",
   "version": "3.5.3"
  }
 },
 "nbformat": 4,
 "nbformat_minor": 2
}
