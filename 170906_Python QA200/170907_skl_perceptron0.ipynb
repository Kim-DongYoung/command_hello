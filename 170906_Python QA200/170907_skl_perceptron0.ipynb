{
 "cells": [
  {
   "cell_type": "code",
   "execution_count": 3,
   "metadata": {
    "collapsed": true
   },
   "outputs": [],
   "source": [
    "%matplotlib inline\n",
    "\n",
    "from sklearn import datasets\n",
    "#from sklearn.cross_validation import train_test_split\n",
    "# This module will be removed in 0.20.\n",
    "# Use :func:`sklearn.model_selection.train_test_split` instead.\n",
    "from sklearn.model_selection import train_test_split\n",
    "from sklearn.preprocessing import StandardScaler\n",
    "from sklearn.linear_model import Perceptron\n",
    "from sklearn.metrics import accuracy_score\n",
    "\n",
    "import numpy as np"
   ]
  },
  {
   "cell_type": "code",
   "execution_count": 2,
   "metadata": {
    "collapsed": false
   },
   "outputs": [
    {
     "name": "stdout",
     "output_type": "stream",
     "text": [
      "총 테스트 개수:45, 오류개수:4\n",
      "정확도: 0.91\n"
     ]
    }
   ],
   "source": [
    "if __name__ == '__main__':\n",
    "    \n",
    "    # scikit-learn에는 아이리스에 대한 데이터를 자체적으로 가지고 있음.\n",
    "    iris = datasets.load_iris()\n",
    "    X = iris.data[:, [2,3]]\n",
    "    y = iris.target\n",
    "    \n",
    "    # train_test_split는 원래 트레이닝 데이터와 결과값인 X와 y를 무작위로 섞은 후\n",
    "    # test_size로 주어진 비율만큼 각각 배분함.\n",
    "    # 예를 들어 test_size = 0.3으로 되어 있으면 X와 y를 무작위로 섞은 후에\n",
    "    # 70%는 X_train과 y_train으로, 30%는 X_test, y_test로 둔다.\n",
    "    X_train, X_test, y_train, y_test = train_test_split(X, y, test_size=0.3, random_state=0)\n",
    "    \n",
    "    # StandardScaler()\n",
    "    # : scikit-learn의 preprocessing 모듈이 제공하는 표준화를 적용하기 위한 클래스\n",
    "    sc = StandardScaler()\n",
    "    sc.fit(X_train) # X_train의 평균과 표준편차를 구함\n",
    "    X_train_std = sc.transform(X_train) # 트레이닝 데이터를 표준화\n",
    "    X_test_std = sc.transform(X_test) # 테스트 데이터를 표준화\n",
    "    \n",
    "    # Warning: n_iter parameter is deprecated in 0.19 and will be removed in 0.21. \n",
    "    # Use max_iter and tol instead\n",
    "    # max_iter는 오류 발생함.\n",
    "    # n_iter가 tol과 max_iter로 기능이 나뉘어 진 것으로 판단됨.\n",
    "    # 하지만 n_iter의 기능을 그대로 가져오지는 않았음. 결과가 다름.\n",
    "    ml = Perceptron(eta0=0.01, n_iter=40, random_state=0)\n",
    "    # ml = Perceptron(eta0=0.01, max_iter=40, random_state=0)\n",
    "    # ml = Perceptron(eta0=0.01, tol=40, random_state=0)\n",
    "    ml.fit(X_train_std, y_train)\n",
    "    \n",
    "    # 퍼셉트론으로 머신러닝을 수행한 후 X_test_std를 이용해서 이에 대한 예측값을 계산힘.\n",
    "    # 이 후 y_pred에 저장.\n",
    "    y_pred = ml.predict(X_test_std)\n",
    "    \n",
    "    print('총 테스트 개수:%d, 오류개수:%d' %(len(y_test), (y_test != y_pred).sum()))\n",
    "    print('정확도: %.2f' %accuracy_score(y_test, y_pred))\n",
    "    "
   ]
  },
  {
   "cell_type": "code",
   "execution_count": null,
   "metadata": {
    "collapsed": true
   },
   "outputs": [],
   "source": []
  }
 ],
 "metadata": {
  "kernelspec": {
   "display_name": "Python [conda env:tensorflow]",
   "language": "python",
   "name": "conda-env-tensorflow-py"
  },
  "language_info": {
   "codemirror_mode": {
    "name": "ipython",
    "version": 3
   },
   "file_extension": ".py",
   "mimetype": "text/x-python",
   "name": "python",
   "nbconvert_exporter": "python",
   "pygments_lexer": "ipython3",
   "version": "3.5.3"
  }
 },
 "nbformat": 4,
 "nbformat_minor": 2
}
