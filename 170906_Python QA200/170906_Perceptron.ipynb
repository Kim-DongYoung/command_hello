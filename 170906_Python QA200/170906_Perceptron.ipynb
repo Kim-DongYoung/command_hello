{
 "cells": [
  {
   "cell_type": "code",
   "execution_count": 19,
   "metadata": {},
   "outputs": [],
   "source": [
    "import numpy as np\n",
    "\n",
    "# 퍼셉트론을 구현하는 클래스를 정의\n",
    "class perceptron():\n",
    "    \n",
    "    # 퍼셉트론 클래스의 생성자를 정의(디폴트값)\n",
    "    # 임계값, learning rate, 학습 횟수\n",
    "    def __init__(self, thresholds=0.0, eta=0.01, n_iter=10):\n",
    "        self.thresholds = thresholds\n",
    "        self.eta = eta\n",
    "        self.n_iter = n_iter\n",
    "    \n",
    "    # 트레이닝 데이터 X와 실제 결과값 y를 인자로 받아 머신러닝을 수행하는 함수\n",
    "    def fit(self, X, y):\n",
    "        \n",
    "        # 가중치를 numpy 배열로 정의\n",
    "        # X.shape[1] = 트레이닝 데이터의 입력값 개수\n",
    "        # X.shape 값이 (4,2)일 경우 X.shape[1] 값은 2가 되며 np.zeros(3)이 된다.\n",
    "        # 이 때 numpy 배열은 [0.0.0.]이 된다.\n",
    "        self.w_ = np.zeros(1+X.shape[1])\n",
    "        \n",
    "        # 머신러닝 반복 횟수에 따라 퍼셉트론 예측값의 실제 결과값이 다른 오류 횟수를\n",
    "        # 저장하기 위한 변수\n",
    "        self.errors_ = []\n",
    "        \n",
    "        # self.n_iter로 지정한 숫자만큼 반복함.\n",
    "        # 자세한 내용은 http://blog.naver.com/samsjang/220955881668 참조\n",
    "        for _ in range(self.n_iter):\n",
    "            errors = 0\n",
    "            for xi, target in zip(X, y):\n",
    "                update = self.eta * (target-self.predict(xi))\n",
    "                self.w_[1:] += update * xi\n",
    "                self.w_[0] += update\n",
    "                errors += int(update!=0.0)\n",
    "            self.errors_.append(errors)\n",
    "            print(self.w_)\n",
    "            \n",
    "        return self\n",
    "    \n",
    "    # np.dot(x,y) : 행렬곱(내적)\n",
    "    def net_input(self, X):\n",
    "        return np.dot(X, self.w_[1:]) + self.w_[0]\n",
    "    \n",
    "    # 순입력 함수 결과값이 임계값인 self.thresholds의 값보다 크면 1, 그렇지 않으면 -1을 \n",
    "    # 리턴하는 코드\n",
    "    def predict(self, X):\n",
    "        return np.where(self.net_input(X) > self.thresholds, 1, -1)\n",
    "    "
   ]
  }
 ],
 "metadata": {
  "kernelspec": {
   "display_name": "Python [conda env:tensorflow]",
   "language": "python",
   "name": "conda-env-tensorflow-py"
  },
  "language_info": {
   "codemirror_mode": {
    "name": "ipython",
    "version": 3
   },
   "file_extension": ".py",
   "mimetype": "text/x-python",
   "name": "python",
   "nbconvert_exporter": "python",
   "pygments_lexer": "ipython3",
   "version": "3.5.3"
  }
 },
 "nbformat": 4,
 "nbformat_minor": 2
}
