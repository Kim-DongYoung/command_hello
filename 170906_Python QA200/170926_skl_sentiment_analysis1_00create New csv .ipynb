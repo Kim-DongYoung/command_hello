{
 "cells": [
  {
   "cell_type": "code",
   "execution_count": 4,
   "metadata": {},
   "outputs": [
    {
     "name": "stdout",
     "output_type": "stream",
     "text": [
      "전처리 시작\n",
      "전처리 완료: 소요시간 [5]초\n"
     ]
    }
   ],
   "source": [
    "# 앞서 만든 csv 파일을 읽어서 pandas의 DataFrame 객체로\n",
    "# 저장한 후, 특수기호, HTML 태그 등을 제거하고 모두 소문자로 변환하여\n",
    "# 새로운 csv 파일로 저장하는 로직.\n",
    "\n",
    "import pandas as pd\n",
    "import re\n",
    "from time import time\n",
    "\n",
    "def preprocessor(text):\n",
    "    # 특수기호, HTML 태그 등 제거 (단, 이모티콘은 남겨둠)\n",
    "    text = re.sub('<[^>]*>', '', text)\n",
    "    emoticons = re.findall('(?::|;|=)(?:-)?(?:\\)|\\(|D|P)\\^.?\\^', text)\n",
    "    text = re.sub('[\\W]+', ' ', text.lower()) + ' '.join(emoticons).replace('-', '')\n",
    "    \n",
    "    return text\n",
    "\n",
    "# python3 부터는 ANSI 기준으로 작성된 파일만 읽을 수 있다.\n",
    "# UTF-8로 작성된 파일은 보통 방법으로 읽을 때 에러가 났기 때문에\n",
    "# UTF-8로 바꾼 후 csv 파일을 생성하였다.\n",
    "# 이 csv 파일을 다시 파이썬에서 읽기 위해 cp949로 다시 encoding 해주었다.\n",
    "df = pd.read_csv('./data/170925_movie_review.csv', encoding='CP949')\n",
    "\n",
    "stime = time()\n",
    "print('전처리 시작')\n",
    "df['review'] = df['review'].apply(preprocessor)\n",
    "print('전처리 완료: 소요시간 [%d]초' %(time()-stime))\n",
    "\n",
    "df.to_csv('./data/170925_movie_review_refiend.csv', index=False)"
   ]
  }
 ],
 "metadata": {
  "kernelspec": {
   "display_name": "Python [conda env:tensorflow]",
   "language": "python",
   "name": "conda-env-tensorflow-py"
  },
  "language_info": {
   "codemirror_mode": {
    "name": "ipython",
    "version": 3
   },
   "file_extension": ".py",
   "mimetype": "text/x-python",
   "name": "python",
   "nbconvert_exporter": "python",
   "pygments_lexer": "ipython3",
   "version": "3.5.3"
  }
 },
 "nbformat": 4,
 "nbformat_minor": 2
}
