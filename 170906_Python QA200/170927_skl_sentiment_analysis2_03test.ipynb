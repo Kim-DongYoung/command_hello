{
 "cells": [
  {
   "cell_type": "code",
   "execution_count": 3,
   "metadata": {},
   "outputs": [
    {
     "name": "stdout",
     "output_type": "stream",
     "text": [
      "예측: 긍정적 의견\n",
      "확률: 73.521%\n"
     ]
    }
   ],
   "source": [
    "import pickle\n",
    "import os\n",
    "import numpy as np\n",
    "from mylib.vectorizer import vect\n",
    "\n",
    "# clf = pickle.load(open(os.path.join(curDir, 'data', 'pklObject', 'SGDclassifier.pkl'), 'rb'))\n",
    "clf = pickle.load(open(os.path.join('./data/pklObject', 'SGDclassifier.pkl'), 'rb'))\n",
    "\n",
    "label = {0:'부정적 의견', 1:'긍정적 의견'}\n",
    "example = ['i liked this movie']\n",
    "X = vect.transform(example)\n",
    "print('예측: %s\\n확률: %.3f%%' %(label[clf.predict(X)[0]], np.max(clf.predict_proba(X))*100))"
   ]
  },
  {
   "cell_type": "code",
   "execution_count": null,
   "metadata": {
    "collapsed": true
   },
   "outputs": [],
   "source": []
  }
 ],
 "metadata": {
  "kernelspec": {
   "display_name": "Python [conda env:tensorflow]",
   "language": "python",
   "name": "conda-env-tensorflow-py"
  },
  "language_info": {
   "codemirror_mode": {
    "name": "ipython",
    "version": 3
   },
   "file_extension": ".py",
   "mimetype": "text/x-python",
   "name": "python",
   "nbconvert_exporter": "python",
   "pygments_lexer": "ipython3",
   "version": "3.5.3"
  }
 },
 "nbformat": 4,
 "nbformat_minor": 2
}
