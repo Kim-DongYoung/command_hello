{
 "cells": [
  {
   "cell_type": "code",
   "execution_count": null,
   "metadata": {},
   "outputs": [
    {
     "name": "stderr",
     "output_type": "stream",
     "text": [
      "C:\\Program Files\\Anaconda3\\envs\\tensorflow\\lib\\site-packages\\sklearn\\feature_extraction\\text.py:1089: FutureWarning: Conversion of the second argument of issubdtype from `float` to `np.floating` is deprecated. In future, it will be treated as `np.float64 == np.dtype(float).type`.\n",
      "  if hasattr(X, 'dtype') and np.issubdtype(X.dtype, np.float):\n"
     ]
    },
    {
     "name": "stdout",
     "output_type": "stream",
     "text": [
      "테스트 정확도: 0.950\n",
      "영문으로 리뷰를 작성하세요:This movie is good to me. because when i young. i love like this.\n",
      "예측: 긍정적 의견\n",
      "확률: 98.798%\n",
      "영문으로 리뷰를 작성하세요:“One thing I will tell you: I would do anything with Joaquin, any day of the week,” he says. “There’s nobody like him. If he was willing to do it, and if people show up to this movie, and Warners came to us and said, ‘You know what? If you guys could think of something…’ Well, I have a feeling that he and I could think of something pretty cool.”\n",
      "예측: 부정적 의견\n",
      "확률: 57.951%\n",
      "영문으로 리뷰를 작성하세요:Forget the overhyped controversy, Joker is simply stupendous as entertainment and provocation, with a gut-punch performance by Phoenix that puts a horrifically human face on an iconic comic-book villain.\n",
      "예측: 긍정적 의견\n",
      "확률: 89.099%\n",
      "영문으로 리뷰를 작성하세요:Featuring a riveting, fully realized, and Oscar-worthy performance by Joaquin Phoenix, Joker would work just as well as an engrossing character study without any of its DC Comics trappings; that it just so happens to be a brilliant Batman-universe movie is icing on the Batfan cake. You will likely leave Joker feeling like I did: unsettled and ready to debate the film for years to come.\n",
      "예측: 긍정적 의견\n",
      "확률: 96.844%\n"
     ]
    }
   ],
   "source": [
    "import pickle\n",
    "import os\n",
    "import numpy as np\n",
    "import pandas as pd\n",
    "from sklearn.metrics import accuracy_score\n",
    "\n",
    "df = pd.read_csv('./data/170925_movie_review_refiend.csv', encoding='CP949')\n",
    "\n",
    "X_train = df.loc[:35000, 'review'].values\n",
    "y_train = df.loc[:35000, 'sentiment'].values\n",
    "X_test = df.loc[15000:, 'review'].values\n",
    "y_test = df.loc[15000:, 'sentiment'].values\n",
    "\n",
    "curDir = os.getcwd()\n",
    "clf = pickle.load(open(os.path.join(curDir, 'data', 'pklObject', 'classifier.pkl'), 'rb'))\n",
    "\n",
    "y_pred = clf.predict(X_test)\n",
    "print('테스트 정확도: %.3f' %accuracy_score(y_test, y_pred))\n",
    "\n",
    "label = {0:'부정적 의견', 1:'긍정적 의견'}\n",
    "\n",
    "while True:\n",
    "    txt = input('영문으로 리뷰를 작성하세요:')\n",
    "    if txt == '':\n",
    "        break\n",
    "    \n",
    "    example = [txt]\n",
    "    print('예측: %s\\n확률: %.3f%%' %(label[clf.predict(example)[0]], np.max(clf.predict_proba(example))*100))"
   ]
  },
  {
   "cell_type": "code",
   "execution_count": null,
   "metadata": {
    "collapsed": true
   },
   "outputs": [],
   "source": []
  }
 ],
 "metadata": {
  "kernelspec": {
   "display_name": "Python 3",
   "language": "python",
   "name": "python3"
  },
  "language_info": {
   "codemirror_mode": {
    "name": "ipython",
    "version": 3
   },
   "file_extension": ".py",
   "mimetype": "text/x-python",
   "name": "python",
   "nbconvert_exporter": "python",
   "pygments_lexer": "ipython3",
   "version": "3.5.3"
  }
 },
 "nbformat": 4,
 "nbformat_minor": 2
}
