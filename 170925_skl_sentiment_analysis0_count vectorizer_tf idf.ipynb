{
 "cells": [
  {
   "cell_type": "code",
   "execution_count": 1,
   "metadata": {},
   "outputs": [
    {
     "name": "stdout",
     "output_type": "stream",
     "text": [
      "{'truck': 6, 'car': 1, 'the': 5, 'expensive': 3, 'cheap': 2, 'is': 4, 'and': 0}\n",
      "[[0 1 0 1 1 1 0]\n",
      " [0 0 1 0 1 1 1]\n",
      " [1 1 1 1 2 2 1]]\n",
      "[[ 0.    0.56  0.    0.56  0.43  0.43  0.  ]\n",
      " [ 0.    0.    0.56  0.    0.43  0.43  0.56]\n",
      " [ 0.4   0.31  0.31  0.31  0.48  0.48  0.31]]\n"
     ]
    }
   ],
   "source": [
    "# scikit-learn의 CountVectorizer를 이용하여 \n",
    "# 텍스트 문장을 벡터로 구성하는 코드\n",
    "\n",
    "# 사용 빈도수가 높은 단어가 행렬의 앞으로 놓여진다.\n",
    "\n",
    "from sklearn.feature_extraction.text import CountVectorizer\n",
    "import numpy as np\n",
    "\n",
    "txt1 = 'the car is expensive'\n",
    "txt2 = 'the truck is cheap'\n",
    "txt3 = 'the car is expensive and the truck is cheap'\n",
    "\n",
    "count = CountVectorizer()\n",
    "docs = np.array([txt1, txt2, txt3]) # 문장을 numpy 배열로 저장\n",
    "bag = count.fit_transform(docs)      # txt1~txt3을 이용해 단어장 구성\n",
    "\n",
    "print(count.vocabulary_)           # 사전자료로 구성된 단어장 출력\n",
    "print(bag.toarray())                # 문장의 특성을 벡터로 구성한 내용 출력\n",
    "\n",
    "# 문장에서 등장하는 단어가 차별화된 정보를 가지고 있는지 또는\n",
    "# 분석에 있어서 유용한 단어인지 판단하기위해 고안된 방법이 있다.\n",
    "# 단어 빈도수-역 문서 빈도수(term frequency-inverse document frequency) 기법\n",
    "# 보통 tf-idf 기법이라고 부른다.\n",
    "\n",
    "# 영어에서 'is'라는 단어와 같은 be동사의 경우 문서에서 등장하는 빈도수는 많지만\n",
    "# 큰 의미를 둘 단어는 아니다. 따라서 문서에 등장하는 단어들의 연관성을 평가하는 것이\n",
    "# 중요하다.\n",
    "\n",
    "#tf-idf(t,d) 계산\n",
    "# 관련 설명 마인드맵 - 자연어 처리(Natural Language Processing; NLP) 항 참조\n",
    "# 참고사이트 : http://sams.epaiai.com/221007060340\n",
    "from sklearn.feature_extraction.text import TfidfTransformer\n",
    "\n",
    "tfidf = TfidfTransformer()\n",
    "np.set_printoptions(precision=2)\n",
    "print(tfidf.fit_transform(count.fit_transform(docs)).toarray())"
   ]
  },
  {
   "cell_type": "code",
   "execution_count": null,
   "metadata": {
    "collapsed": true
   },
   "outputs": [],
   "source": []
  }
 ],
 "metadata": {
  "kernelspec": {
   "display_name": "Python [conda env:tensorflow]",
   "language": "python",
   "name": "conda-env-tensorflow-py"
  },
  "language_info": {
   "codemirror_mode": {
    "name": "ipython",
    "version": 3
   },
   "file_extension": ".py",
   "mimetype": "text/x-python",
   "name": "python",
   "nbconvert_exporter": "python",
   "pygments_lexer": "ipython3",
   "version": "3.5.3"
  }
 },
 "nbformat": 4,
 "nbformat_minor": 2
}
