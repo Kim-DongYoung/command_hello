{
 "cells": [
  {
   "cell_type": "code",
   "execution_count": 3,
   "metadata": {},
   "outputs": [
    {
     "name": "stdout",
     "output_type": "stream",
     "text": [
      "{'expensive': 3, 'cheap': 2, 'is': 4, 'the': 5, 'car': 1, 'truck': 6, 'and': 0}\n",
      "[[0 1 0 1 1 1 0]\n",
      " [0 0 1 0 1 1 1]\n",
      " [1 1 1 1 2 2 1]]\n"
     ]
    }
   ],
   "source": [
    "# scikit-learn의 CountVectorizer를 이용하여 \n",
    "# 텍스트 문장을 벡터로 구성하는 코드\n",
    "\n",
    "# 사용 빈도수가 높은 단어가 행렬의 앞으로 놓여진다.\n",
    "\n",
    "from sklearn.feature_extraction.text import CountVectorizer\n",
    "import numpy as np\n",
    "\n",
    "txt1 = 'the car is expensive'\n",
    "txt2 = 'the truck is cheap'\n",
    "txt3 = 'the car is expensive and the truck is cheap'\n",
    "\n",
    "count = CountVectorizer()\n",
    "docs = np.array([txt1, txt2, txt3]) # 문장을 numpy 배열로 저장\n",
    "bag = count.fit_transform(docs)      # txt1~txt3을 이용해 단어장 구성\n",
    "\n",
    "print(count.vocabulary_)           # 사전자료로 구성된 단어장 출력\n",
    "print(bag.toarray())                # 문장의 특성을 벡터로 구성한 내용 출력"
   ]
  },
  {
   "cell_type": "code",
   "execution_count": null,
   "metadata": {
    "collapsed": true
   },
   "outputs": [],
   "source": []
  }
 ],
 "metadata": {
  "kernelspec": {
   "display_name": "Python 3",
   "language": "python",
   "name": "python3"
  },
  "language_info": {
   "codemirror_mode": {
    "name": "ipython",
    "version": 3
   },
   "file_extension": ".py",
   "mimetype": "text/x-python",
   "name": "python",
   "nbconvert_exporter": "python",
   "pygments_lexer": "ipython3",
   "version": "3.5.3"
  }
 },
 "nbformat": 4,
 "nbformat_minor": 2
}
