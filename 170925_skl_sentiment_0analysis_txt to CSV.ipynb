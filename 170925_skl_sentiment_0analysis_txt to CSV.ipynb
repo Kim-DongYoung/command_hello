{
 "cells": [
  {
   "cell_type": "code",
   "execution_count": 8,
   "metadata": {},
   "outputs": [
    {
     "name": "stdout",
     "output_type": "stream",
     "text": [
      "[####################]"
     ]
    }
   ],
   "source": [
    "# 해당 path에 저장된 txt 파일들을 하나의 csv 파일로 만드는 코드\n",
    "# 앞서 progbar.py를 코딩하여 중간 진행사항이 보이도록 했다.\n",
    "\n",
    "import pandas as pd\n",
    "import os\n",
    "import numpy as np\n",
    "from mylib.progbar import ProgBar\n",
    "\n",
    "path = './data/170925_movie_review/aclImdb'\n",
    "\n",
    "pbar = ProgBar(50000)\n",
    "labels = {'pos':1, 'neg':0}\n",
    "df = pd.DataFrame()\n",
    "for s in ('test', 'train'):\n",
    "    for name in ('pos', 'neg'):\n",
    "        subpath = '/%s/%s' %(s, name)\n",
    "        dirpath = path + subpath\n",
    "        for file in os.listdir(dirpath):\n",
    "            with open(os.path.join(dirpath, file), 'r', encoding='utf-8') as f:\n",
    "                txt = f.read()\n",
    "                \n",
    "            df = df.append([[txt, labels[name]]], ignore_index=True)\n",
    "            pbar.update()\n",
    "            \n",
    "df.columns = ['review', 'sentiment']\n",
    "\n",
    "np.random.seed(0)\n",
    "df = df.reindex(np.random.permutation(df.index))\n",
    "df.to_csv('./data/170925_movie_review.csv', index=False)"
   ]
  },
  {
   "cell_type": "code",
   "execution_count": null,
   "metadata": {
    "collapsed": true
   },
   "outputs": [],
   "source": []
  }
 ],
 "metadata": {
  "kernelspec": {
   "display_name": "Python 3",
   "language": "python",
   "name": "python3"
  },
  "language_info": {
   "codemirror_mode": {
    "name": "ipython",
    "version": 3
   },
   "file_extension": ".py",
   "mimetype": "text/x-python",
   "name": "python",
   "nbconvert_exporter": "python",
   "pygments_lexer": "ipython3",
   "version": "3.5.3"
  }
 },
 "nbformat": 4,
 "nbformat_minor": 2
}
