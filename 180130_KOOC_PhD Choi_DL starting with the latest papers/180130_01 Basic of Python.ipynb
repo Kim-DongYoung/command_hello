{
 "cells": [
  {
   "cell_type": "code",
   "execution_count": 3,
   "metadata": {},
   "outputs": [
    {
     "name": "stdout",
     "output_type": "stream",
     "text": [
      "LOADING PACKAGE\n"
     ]
    }
   ],
   "source": [
    "import numpy as np\n",
    "print (\"LOADING PACKAGE\")"
   ]
  },
  {
   "cell_type": "code",
   "execution_count": 4,
   "metadata": {},
   "outputs": [
    {
     "name": "stdout",
     "output_type": "stream",
     "text": [
      "Hello, world\n",
      "Interger : 3, 03, 003, 0003, 00003\n",
      "Float : 123, 123.5, 123.46, 123.46, 123.46\n",
      "String: [Hello, world], [Hello, world], [        Hello, world]\n"
     ]
    }
   ],
   "source": [
    "# PRINT FUNCITON\n",
    "print (\"Hello, world\")\n",
    "\n",
    "# PRINT WITH ARGUMENTS\n",
    "# 1. INTERGER\n",
    "x = 3;\n",
    "print (\"Interger : %01d, %02d, %03d, %04d, %05d\" % (x, x, x, x, x))\n",
    "\n",
    "# 2. FLOAT\n",
    "x = 123.456;\n",
    "print (\"Float : %.0f, %.1f, %.2f, %1.2f, %2.2f\" % (x, x, x, x, x))\n",
    "\n",
    "# 3. STRING\n",
    "x = \"Hello, world\"\n",
    "print (\"String: [%s], [%3s], [%20s]\" % (x, x, x))"
   ]
  },
  {
   "cell_type": "code",
   "execution_count": 6,
   "metadata": {},
   "outputs": [
    {
     "name": "stdout",
     "output_type": "stream",
     "text": [
      "[ANN]\n",
      "[MLP]\n",
      "[CNN]\n",
      "[RNN]\n",
      "[DAE]\n"
     ]
    }
   ],
   "source": [
    "# FOR LOOP\n",
    "dlmethods = [\"ANN\", \"MLP\", \"CNN\", \"RNN\", \"DAE\"]\n",
    "# for loop를 쓰게 되면 마지막에 : 쓸 것\n",
    "for alg in dlmethods:\n",
    "    print (\"[%s]\" % alg)"
   ]
  },
  {
   "cell_type": "code",
   "execution_count": 11,
   "metadata": {},
   "outputs": [
    {
     "name": "stdout",
     "output_type": "stream",
     "text": [
      "[0/5][ANN]\n",
      "[1/5][MLP]\n",
      "[2/5][CNN]\n",
      "[3/5][RNN]\n",
      "[4/5][DAE]\n"
     ]
    }
   ],
   "source": [
    "# FOR LOOP WITH INDEX\n",
    "# 같은 for loop여도 enumerate를 써주게 되면 순번을 볼 수 있다.\n",
    "dlmethods = [\"ANN\", \"MLP\", \"CNN\", \"RNN\", \"DAE\"]\n",
    "for i, alg in enumerate(dlmethods):\n",
    "    print (\"[%d/%d][%s]\" % (i,len(dlmethods), alg))"
   ]
  },
  {
   "cell_type": "code",
   "execution_count": 14,
   "metadata": {},
   "outputs": [
    {
     "name": "stdout",
     "output_type": "stream",
     "text": [
      "[ANN] is a feed-forward network.\n",
      "[MLP] is a feed-forward network.\n",
      "[CNN] is a feed-forward network.\n",
      "[RNN] is a recurrent network.\n",
      "[DAE] in an unsupervised method.\n"
     ]
    }
   ],
   "source": [
    "# IF/ELSE\n",
    "dlmethods = [\"ANN\", \"MLP\", \"CNN\", \"RNN\", \"DAE\"];\n",
    "for alg in dlmethods:\n",
    "    if alg in [\"ANN\", \"MLP\", \"CNN\"]:\n",
    "        print (\"[%s] is a feed-forward network.\" % (alg))\n",
    "    elif alg in [\"RNN\"]:\n",
    "        print (\"[%s] is a recurrent network.\" % (alg))\n",
    "    else:\n",
    "        print (\"[%s] in an unsupervised method.\" % (alg))"
   ]
  },
  {
   "cell_type": "code",
   "execution_count": 17,
   "metadata": {},
   "outputs": [
    {
     "name": "stdout",
     "output_type": "stream",
     "text": [
      "FUNTION DEFFINED\n",
      "[10] + [20] is [30]\n"
     ]
    }
   ],
   "source": [
    "# FUNCTION\n",
    "def sum(a, b):\n",
    "    return a+b\n",
    "print (\"FUNTION DEFFINED\")\n",
    "\n",
    "a = 10\n",
    "b = 20\n",
    "print (\"[%d] + [%d] is [%d]\" % (a, b, sum(a, b)))"
   ]
  },
  {
   "cell_type": "code",
   "execution_count": 18,
   "metadata": {},
   "outputs": [
    {
     "name": "stdout",
     "output_type": "stream",
     "text": [
      "DEEP LEARNING IS VERY EXCITING.\n",
      "DEEP LEARNING IS VERY VERY VERY VERY VERY VERY VERY VERY VERY VERY EXCITING.\n"
     ]
    }
   ],
   "source": [
    "# STRING OPERATION\n",
    "head = \"DEEP LEARNING\"\n",
    "body = \"VERY \"\n",
    "tail = \"EXCITING.\"\n",
    "print (head + \" IS \" + body + tail)\n",
    "\n",
    "head = \"DEEP LEARNING\"\n",
    "body = \"VERY \"\n",
    "tail = \"EXCITING.\"\n",
    "print (head + \" IS \" + body*10 + tail)"
   ]
  },
  {
   "cell_type": "code",
   "execution_count": 22,
   "metadata": {},
   "outputs": [
    {
     "name": "stdout",
     "output_type": "stream",
     "text": [
      "a : [[]], TYPE IS [<class 'list'>]\n",
      "[1, 2, 3]\n",
      "['x', 'y', 'z']\n",
      "[[1, 2, 3], ['x', 'y', 'z']]\n",
      "a\n",
      "b\n",
      "c\n",
      "['a', 'b', 'c']\n"
     ]
    }
   ],
   "source": [
    "# LIST\n",
    "# 파이썬은 타입이 없는 구조체다.\n",
    "a = []\n",
    "print (\"a : [%s], TYPE IS [%s]\" % (a, type(a)))\n",
    "\n",
    "b = [1, 2, 3]\n",
    "c = ['x', 'y', 'z']\n",
    "d = [b, c]\n",
    "print (b)\n",
    "print (c)\n",
    "print (d)\n",
    "\n",
    "# LIST USAGE 1\n",
    "a = ['a', 'b', 'c']\n",
    "for aval in a:\n",
    "    print (aval)\n",
    "\n",
    "# LIST USAGE 2\n",
    "b = []\n",
    "for aidx in range(len(a)):\n",
    "    b.append(a[aidx])\n",
    "print (b)"
   ]
  },
  {
   "cell_type": "code",
   "execution_count": 23,
   "metadata": {},
   "outputs": [
    {
     "data": {
      "text/plain": [
       "'c'"
      ]
     },
     "execution_count": 23,
     "metadata": {},
     "output_type": "execute_result"
    }
   ],
   "source": [
    "b[2]"
   ]
  },
  {
   "cell_type": "code",
   "execution_count": 27,
   "metadata": {},
   "outputs": [
    {
     "name": "stdout",
     "output_type": "stream",
     "text": [
      "{'name': 'Sungjoon', 'job': 'Student'}\n",
      "{'name': 'Sungjoon', 'job': 'Student'}\n",
      "NAME IS [Sungjoon]\n",
      "JOB IS [Student]\n"
     ]
    }
   ],
   "source": [
    "# 데이터의 이름을 알고 있을 때 데이터를 불러오는 방법\n",
    "\n",
    "# DICTIONARY INITIALIZE 1\n",
    "a = dict()\n",
    "a['name'] = 'Sungjoon'\n",
    "a['job'] = 'Student'\n",
    "print (a)\n",
    "\n",
    "# DICTIONARY INITIALIZE 2\n",
    "b = {'name' : 'Sungjoon', 'job' : 'Student'}\n",
    "print (b)\n",
    "\n",
    "# DICTIONARY USAGE\n",
    "print (\"NAME IS [%s]\" % (b['name']))\n",
    "print (\"JOB IS [%s]\" % (b['job']))"
   ]
  },
  {
   "cell_type": "code",
   "execution_count": 29,
   "metadata": {},
   "outputs": [
    {
     "name": "stdout",
     "output_type": "stream",
     "text": [
      "CLASS DEFINED.\n",
      "HELLO, [Sungjoon]\n",
      "boo [Sungjoon]\n",
      "BOO [SUNGJOON]\n"
     ]
    }
   ],
   "source": [
    "# CLASS\n",
    "# 내부에 function을 만들다.\n",
    "\n",
    "class foo:\n",
    "    #CONTRUCTOR\n",
    "    def __init__(self, name):\n",
    "        self.name = name\n",
    "        print (\"HELLO, [%s]\" % (self.name))\n",
    "    def boo(self, loud=False):\n",
    "        if loud:\n",
    "            print ('BOO [%s]' % (self.name.upper()))\n",
    "        else:\n",
    "            print ('boo [%s]' % (self.name))\n",
    "print (\"CLASS DEFINED.\")\n",
    "\n",
    "# INSTANTIATE CLASS\n",
    "f = foo('Sungjoon')\n",
    "\n",
    "# CLASS USAGE\n",
    "f.boo()\n",
    "# loud를 쓰면 대문자로 나온다.\n",
    "f.boo(loud=True)"
   ]
  },
  {
   "cell_type": "code",
   "execution_count": 35,
   "metadata": {},
   "outputs": [
    {
     "name": "stdout",
     "output_type": "stream",
     "text": [
      "(1) Type is <class 'numpy.ndarray'>\n",
      "(2) Shape is (3,)\n",
      "(3) Values are : \n",
      "[1 2 3]\n",
      "(1) Type is <class 'numpy.ndarray'>\n",
      "(2) Shape is (3,)\n",
      "(3) Values are : \n",
      "[5 2 3]\n",
      "(1) Type is <class 'numpy.ndarray'>\n",
      "(2) Shape is (2, 3)\n",
      "(3) Values are : \n",
      "[[1 2 3]\n",
      " [4 5 6]]\n"
     ]
    }
   ],
   "source": [
    "# NUMPY\n",
    "def print_np(x):\n",
    "    print (\"(1) Type is %s\" % (type(x)))\n",
    "    print (\"(2) Shape is %s\" % (x.shape,))\n",
    "    print (\"(3) Values are : \\n%s\" % (x))\n",
    "    print\n",
    "\n",
    "# RANK 1 ARRAY\n",
    "x = np.array([1, 2, 3])\n",
    "print_np(x)\n",
    "x[0] = 5\n",
    "print_np(x)\n",
    "\n",
    "# RANK 2 ARRAY\n",
    "y = np.array([[1, 2, 3], [4, 5, 6]])\n",
    "print_np(y)"
   ]
  },
  {
   "cell_type": "code",
   "execution_count": 36,
   "metadata": {},
   "outputs": [
    {
     "name": "stdout",
     "output_type": "stream",
     "text": [
      "(1) Type is <class 'numpy.ndarray'>\n",
      "(2) Shape is (3, 2)\n",
      "(3) Values are : \n",
      "[[ 0.  0.]\n",
      " [ 0.  0.]\n",
      " [ 0.  0.]]\n",
      "(1) Type is <class 'numpy.ndarray'>\n",
      "(2) Shape is (1, 2)\n",
      "(3) Values are : \n",
      "[[ 1.  1.]]\n",
      "(1) Type is <class 'numpy.ndarray'>\n",
      "(2) Shape is (3, 3)\n",
      "(3) Values are : \n",
      "[[ 1.  0.  0.]\n",
      " [ 0.  1.  0.]\n",
      " [ 0.  0.  1.]]\n"
     ]
    }
   ],
   "source": [
    "# ZEROS\n",
    "# 0행렬\n",
    "a = np.zeros((3, 2))\n",
    "print_np(a)\n",
    "\n",
    "# ONES\n",
    "# 1행렬\n",
    "b = np.ones((1, 2))\n",
    "print_np(b)\n",
    "\n",
    "# IDENTITY\n",
    "# 단위 행렬\n",
    "c = np.eye(3, 3)\n",
    "print_np(c)"
   ]
  },
  {
   "cell_type": "code",
   "execution_count": 37,
   "metadata": {},
   "outputs": [
    {
     "name": "stdout",
     "output_type": "stream",
     "text": [
      "(1) Type is <class 'numpy.ndarray'>\n",
      "(2) Shape is (2, 2)\n",
      "(3) Values are : \n",
      "[[ 0.64425884  0.91811874]\n",
      " [ 0.11398135  0.43358598]]\n",
      "(1) Type is <class 'numpy.ndarray'>\n",
      "(2) Shape is (1, 5)\n",
      "(3) Values are : \n",
      "[[-0.73516335 -0.5085506   2.98423239 -1.80368645  1.23676676]]\n"
     ]
    }
   ],
   "source": [
    "# RANDOM UNIFORM\n",
    "# 0에서 1사이 초기화\n",
    "d = np.random.random((2, 2))\n",
    "print_np(d)\n",
    "\n",
    "# RANDOM GAUSSIAN\n",
    "e = np.random.randn(1, 5)\n",
    "print_np(e)"
   ]
  },
  {
   "cell_type": "code",
   "execution_count": 38,
   "metadata": {},
   "outputs": [
    {
     "name": "stdout",
     "output_type": "stream",
     "text": [
      "(1) Type is <class 'numpy.ndarray'>\n",
      "(2) Shape is (3, 4)\n",
      "(3) Values are : \n",
      "[[ 1  2  3  4]\n",
      " [ 5  6  7  8]\n",
      " [ 9 10 11 12]]\n",
      "(1) Type is <class 'numpy.ndarray'>\n",
      "(2) Shape is (2, 2)\n",
      "(3) Values are : \n",
      "[[2 3]\n",
      " [6 7]]\n"
     ]
    }
   ],
   "source": [
    "# ARRAY INDEXING\n",
    "\n",
    "a = np.array([[1, 2, 3, 4], [5, 6, 7, 8], [9, 10, 11 , 12]])\n",
    "print_np(a)\n",
    "\n",
    "b = a[:2, 1:3]\n",
    "print_np(b)"
   ]
  },
  {
   "cell_type": "code",
   "execution_count": 39,
   "metadata": {},
   "outputs": [
    {
     "name": "stdout",
     "output_type": "stream",
     "text": [
      "(1) Type is <class 'numpy.ndarray'>\n",
      "(2) Shape is (3, 4)\n",
      "(3) Values are : \n",
      "[[ 1  2  3  4]\n",
      " [ 5  6  7  8]\n",
      " [ 9 10 11 12]]\n",
      "(1) Type is <class 'numpy.ndarray'>\n",
      "(2) Shape is (4,)\n",
      "(3) Values are : \n",
      "[5 6 7 8]\n",
      "(1) Type is <class 'numpy.ndarray'>\n",
      "(2) Shape is (1, 4)\n",
      "(3) Values are : \n",
      "[[5 6 7 8]]\n",
      "(1) Type is <class 'numpy.ndarray'>\n",
      "(2) Shape is (1, 4)\n",
      "(3) Values are : \n",
      "[[5 6 7 8]]\n"
     ]
    }
   ],
   "source": [
    "# GET ROW\n",
    "\n",
    "a = np.array([[1, 2, 3, 4], [5, 6, 7, 8], [9, 10, 11, 12]])\n",
    "print_np(a)\n",
    "\n",
    "row_r1 = a[1, :]     # Rank 1 view of the second row of a\n",
    "row_r2 = a[1:2, :]   # Rank 2 view of the second row of a\n",
    "row_r3 = a[[1], :]   # Rank 2 view of the second row of a\n",
    "\n",
    "# WHAT IS DIFFRENT?\n",
    "print_np(row_r1)\n",
    "print_np(row_r2)\n",
    "print_np(row_r3)"
   ]
  },
  {
   "cell_type": "code",
   "execution_count": 40,
   "metadata": {},
   "outputs": [
    {
     "name": "stdout",
     "output_type": "stream",
     "text": [
      "(1) Type is <class 'numpy.ndarray'>\n",
      "(2) Shape is (2,)\n",
      "(3) Values are : \n",
      "[1 2]\n",
      "(1) Type is <class 'numpy.ndarray'>\n",
      "(2) Shape is (2,)\n",
      "(3) Values are : \n",
      "[ 1.  2.]\n",
      "(1) Type is <class 'numpy.ndarray'>\n",
      "(2) Shape is (2,)\n",
      "(3) Values are : \n",
      "[1 2]\n",
      "(1) Type is <class 'numpy.ndarray'>\n",
      "(2) Shape is (2,)\n",
      "(3) Values are : \n",
      "[1 2]\n"
     ]
    }
   ],
   "source": [
    "# DIFFERENT TYPES\n",
    "x = np.array([1, 2]) # Let numpy choose the datatype\n",
    "y = np.array([1.0, 2.0]) # Let numpy choose the datatype\n",
    "z = np.array([1, 2], dtype=np.int64) # particular datatype\n",
    "\n",
    "print_np(x)\n",
    "print_np(y)\n",
    "print_np(z)\n",
    "\n",
    "# TYPE CASTING\n",
    "y2 = y.astype(np.int64)\n",
    "print_np(y2)"
   ]
  },
  {
   "cell_type": "code",
   "execution_count": 43,
   "metadata": {},
   "outputs": [
    {
     "name": "stdout",
     "output_type": "stream",
     "text": [
      "(1) Type is <class 'numpy.ndarray'>\n",
      "(2) Shape is (2, 2)\n",
      "(3) Values are : \n",
      "[[ 1.  2.]\n",
      " [ 3.  4.]]\n",
      "(1) Type is <class 'numpy.ndarray'>\n",
      "(2) Shape is (2, 2)\n",
      "(3) Values are : \n",
      "[[ 5.  6.]\n",
      " [ 7.  8.]]\n",
      "[[  6.   8.]\n",
      " [ 10.  12.]]\n",
      "[[  6.   8.]\n",
      " [ 10.  12.]]\n",
      "[[-4. -4.]\n",
      " [-4. -4.]]\n",
      "[[-4. -4.]\n",
      " [-4. -4.]]\n",
      "[[  5.  12.]\n",
      " [ 21.  32.]]\n",
      "[[  5.  12.]\n",
      " [ 21.  32.]]\n",
      "[[ 0.2         0.33333333]\n",
      " [ 0.42857143  0.5       ]]\n",
      "[[ 0.2         0.33333333]\n",
      " [ 0.42857143  0.5       ]]\n"
     ]
    }
   ],
   "source": [
    "# ARRAY MATH\n",
    "x = np.array([[1, 2], [3, 4]], dtype=np.float64)\n",
    "y = np.array([[5, 6], [7, 8]], dtype=np.float64)\n",
    "print_np(x)\n",
    "print_np(y)\n",
    "\n",
    "# ADD\n",
    "print (x + y)\n",
    "print (np.add(x, y))\n",
    "\n",
    "# SUBSTRACT\n",
    "print (x - y)\n",
    "print (np.subtract(x, y))\n",
    "\n",
    "# PRODUCT\n",
    "print (x * y)\n",
    "print (np.multiply(x, y))\n",
    "\n",
    "# DIVSION\n",
    "print (x / y)\n",
    "print (np.divide(x, y))"
   ]
  },
  {
   "cell_type": "code",
   "execution_count": 48,
   "metadata": {},
   "outputs": [
    {
     "name": "stdout",
     "output_type": "stream",
     "text": [
      "(1) Type is <class 'numpy.ndarray'>\n",
      "(2) Shape is (2, 2)\n",
      "(3) Values are : \n",
      "[[1 2]\n",
      " [3 4]]\n",
      "(1) Type is <class 'numpy.ndarray'>\n",
      "(2) Shape is (2, 2)\n",
      "(3) Values are : \n",
      "[[5 6]\n",
      " [7 8]]\n",
      "(1) Type is <class 'numpy.ndarray'>\n",
      "(2) Shape is (2,)\n",
      "(3) Values are : \n",
      "[ 9 10]\n",
      "(1) Type is <class 'numpy.ndarray'>\n",
      "(2) Shape is (2,)\n",
      "(3) Values are : \n",
      "[11 12]\n",
      "219\n",
      "219\n",
      "[29 67]\n",
      "[29 67]\n",
      "[[19 22]\n",
      " [43 50]]\n",
      "[[19 22]\n",
      " [43 50]]\n"
     ]
    }
   ],
   "source": [
    "# MATRIX OPERATIONS\n",
    "x = np.array([[1, 2], [3, 4]])\n",
    "y = np.array([[5, 6], [7, 8]])\n",
    "v = np.array([9, 10])\n",
    "w = np.array([11, 12])\n",
    "\n",
    "print_np(x)\n",
    "print_np(y)\n",
    "print_np(v)\n",
    "print_np(w)\n",
    "\n",
    "# DOT PRODUCT\n",
    "print (v.dot(w))\n",
    "print (np.dot(v, w)) # <= v * w'\n",
    "\n",
    "print (x.dot(v))\n",
    "print (np.dot(x,v)) # <= x * v'\n",
    "\n",
    "print (x.dot(y))\n",
    "print (np.dot(x, y))"
   ]
  },
  {
   "cell_type": "code",
   "execution_count": 49,
   "metadata": {},
   "outputs": [
    {
     "name": "stdout",
     "output_type": "stream",
     "text": [
      "(1) Type is <class 'numpy.ndarray'>\n",
      "(2) Shape is (2, 2)\n",
      "(3) Values are : \n",
      "[[1 2]\n",
      " [3 4]]\n",
      "(1) Type is <class 'numpy.ndarray'>\n",
      "(2) Shape is (2, 2)\n",
      "(3) Values are : \n",
      "[[19 22]\n",
      " [43 50]]\n"
     ]
    }
   ],
   "source": [
    "# EMPTY_LIKE\n",
    "# x를 y에 복사했을 때 일반적으로 파이썬에서는\n",
    "# y의 값이 변하면 x도 같이 변한다.\n",
    "# 따라서 값을 가져올 때는 copy또는 np.empty_like로 가져온다.\n",
    "\n",
    "y = np.empty_like(x)\n",
    "print_np(x)\n",
    "print_np(y)"
   ]
  },
  {
   "cell_type": "code",
   "execution_count": 51,
   "metadata": {},
   "outputs": [
    {
     "name": "stdout",
     "output_type": "stream",
     "text": [
      "[[0 1]\n",
      " [2 3]]\n",
      "[[0 1]\n",
      " [2 3]]\n",
      "[[100   1]\n",
      " [  2   3]]\n",
      "[[100   1]\n",
      " [  2   3]]\n"
     ]
    }
   ],
   "source": [
    "# PYHTION USED 'CALL BY REFERENCE'\n",
    "\n",
    "# INITIALIZE X\n",
    "x = np.array([[0, 1], [2, 3]])\n",
    "print (x)\n",
    "\n",
    "# COPY X TO Z\n",
    "z = x\n",
    "print (z)\n",
    "\n",
    "# CHANGE VALUE IN Z\n",
    "z[0, 0] = 100\n",
    "print (z)\n",
    "\n",
    "# THEN, WHAT HAPPENS TO X?\n",
    "print (x)"
   ]
  },
  {
   "cell_type": "code",
   "execution_count": 52,
   "metadata": {},
   "outputs": [
    {
     "name": "stdout",
     "output_type": "stream",
     "text": [
      "(1) Type is <class 'numpy.ndarray'>\n",
      "(2) Shape is (5,)\n",
      "(3) Values are : \n",
      "[0 1 2 3 4]\n",
      "(1) Type is <class 'numpy.ndarray'>\n",
      "(2) Shape is (1, 10)\n",
      "(3) Values are : \n",
      "[[0 1 2 3 4 0 1 2 3 4]]\n",
      "(1) Type is <class 'numpy.ndarray'>\n",
      "(2) Shape is (2, 5)\n",
      "(3) Values are : \n",
      "[[0 1 2 3 4]\n",
      " [0 1 2 3 4]]\n"
     ]
    }
   ],
   "source": [
    "v = np.array([0, 1, 2, 3, 4])\n",
    "print_np(v)\n",
    "\n",
    "w = np.tile(v, (1, 2))\n",
    "print_np(w)\n",
    "\n",
    "w = np.tile(v, (2, 1))\n",
    "print_np(w)"
   ]
  },
  {
   "cell_type": "code",
   "execution_count": 54,
   "metadata": {},
   "outputs": [
    {
     "name": "stdout",
     "output_type": "stream",
     "text": [
      "PLOT READY\n"
     ]
    },
    {
     "data": {
      "image/png": "[encoded data removed]",
      "text/plain": [
       "<matplotlib.figure.Figure at 0x2a74fc07e80>"
      ]
     },
     "metadata": {},
     "output_type": "display_data"
    },
    {
     "data": {
      "image/png": "[encoded data removed]",
      "text/plain": [
       "<matplotlib.figure.Figure at 0x2a75119f7f0>"
      ]
     },
     "metadata": {},
     "output_type": "display_data"
    }
   ],
   "source": [
    "# MATPLOTLIB\n",
    "import matplotlib.pyplot as plt\n",
    "%matplotlib inline\n",
    "print (\"PLOT READY\")\n",
    "\n",
    "# BASIC PLOT\n",
    "# Compute the x and y coordinates for points on a sine curve\n",
    "x = np.arange(0, 3 * np.pi, 0.1)\n",
    "y = np.sin(x)\n",
    "\n",
    "# Plot the points using matplotlib\n",
    "plt.plot(x, y)\n",
    "plt.show()\n",
    "\n",
    "# PLOT WITH LEGEND\n",
    "y_sin = np.sin(x)\n",
    "y_cos = np.cos(x)\n",
    "# Plot the points using matplotlib\n",
    "plt.plot(x, y_sin)\n",
    "plt.plot(x, y_cos)\n",
    "plt.xlabel('x axis label')\n",
    "plt.ylabel('y axis label')\n",
    "plt.title('Sine and Cosine')\n",
    "plt.legend(['Sine', 'Cosine'])\n",
    "\n",
    "# SUBPLOT\n",
    "# Conpute the x and y coordinates for points\n",
    "# on sine and cosine curves\n",
    "x = np.arange(0, 3 * np.pi, 0.1)\n",
    "y_sin = np.sin(x)\n",
    "y_cos = np.cos(x)\n",
    "\n",
    "# Set up a subplot grid that has height 2 and width 1,\n",
    "# and set the first such subplot as active.\n",
    "plt.subplot(1, 2, 1)\n",
    "\n",
    "# Make the first plot\n",
    "plt.plot(x, y_sin)\n",
    "plt.title('Sine')\n",
    "\n",
    "# Set the second subplot as active, and make the second plot.\n",
    "plt.subplot(1, 2, 2)\n",
    "plt.plot(x, y_cos)\n",
    "plt.title('Cosine')\n",
    "\n",
    "# Show the figure\n",
    "plt.show()"
   ]
  },
  {
   "cell_type": "code",
   "execution_count": null,
   "metadata": {
    "collapsed": true
   },
   "outputs": [],
   "source": []
  }
 ],
 "metadata": {
  "kernelspec": {
   "display_name": "Python 3",
   "language": "python",
   "name": "python3"
  },
  "language_info": {
   "codemirror_mode": {
    "name": "ipython",
    "version": 3
   },
   "file_extension": ".py",
   "mimetype": "text/x-python",
   "name": "python",
   "nbconvert_exporter": "python",
   "pygments_lexer": "ipython3",
   "version": "3.5.3"
  }
 },
 "nbformat": 4,
 "nbformat_minor": 2
}
