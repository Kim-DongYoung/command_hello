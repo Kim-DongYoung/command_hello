{
 "cells": [
  {
   "cell_type": "markdown",
   "metadata": {},
   "source": [
    "## 1 - Packages\n",
    "Let's first import all the packages that you will need during this assignment. \n",
    "- [numpy](www.numpy.org) is the fundamental package for scientific computing with Python.\n",
    "- [matplotlib](http://matplotlib.org) is a library to plot graphs in Python.\n",
    "- [PIL](http://www.pythonware.com/products/pil/) and [scipy](https://www.scipy.org/) are used here to test your model with your own picture at the end.\n",
    "- dnn_app_utils provides the functions implemented in the \"Building your Deep Neural Network: Step by Step\" assignment to this notebook.\n",
    "- np.random.seed(1) is used to keep all the random function calls consistent. It will help us grade your work."
   ]
  },
  {
   "cell_type": "code",
   "execution_count": 1,
   "metadata": {
    "collapsed": true
   },
   "outputs": [],
   "source": [
    "#import time\n",
    "import numpy as np\n",
    "#import h5py\n",
    "import matplotlib.pyplot as plt\n",
    "import scipy\n",
    "#from PIL import Image\n",
    "#from scipy import ndimage\n",
    "import pandas as pd\n",
    "import seaborn as sns # Pairplot\n",
    "from dnn_app_utils_v3 import *\n",
    "\n",
    "#np.random.seed(1)"
   ]
  },
  {
   "cell_type": "markdown",
   "metadata": {},
   "source": [
    "## 2 - Dataset"
   ]
  },
  {
   "cell_type": "code",
   "execution_count": 2,
   "metadata": {},
   "outputs": [
    {
     "data": {
      "text/html": [
       "<div>\n",
       "<style>\n",
       "    .dataframe thead tr:only-child th {\n",
       "        text-align: right;\n",
       "    }\n",
       "\n",
       "    .dataframe thead th {\n",
       "        text-align: left;\n",
       "    }\n",
       "\n",
       "    .dataframe tbody tr th {\n",
       "        vertical-align: top;\n",
       "    }\n",
       "</style>\n",
       "<table border=\"1\" class=\"dataframe\">\n",
       "  <thead>\n",
       "    <tr style=\"text-align: right;\">\n",
       "      <th></th>\n",
       "      <th>ANTM Main</th>\n",
       "      <th>ANTM Sub1</th>\n",
       "      <th>ANTM Sub2</th>\n",
       "      <th>ANTM Sub3</th>\n",
       "      <th>ANTM Sub6</th>\n",
       "      <th>ANTM Sub7</th>\n",
       "      <th>Distance</th>\n",
       "      <th>Angle</th>\n",
       "    </tr>\n",
       "  </thead>\n",
       "  <tbody>\n",
       "    <tr>\n",
       "      <th>1195</th>\n",
       "      <td>78</td>\n",
       "      <td>76</td>\n",
       "      <td>81</td>\n",
       "      <td>80</td>\n",
       "      <td>80</td>\n",
       "      <td>80</td>\n",
       "      <td>2m</td>\n",
       "      <td>1</td>\n",
       "    </tr>\n",
       "    <tr>\n",
       "      <th>1196</th>\n",
       "      <td>78</td>\n",
       "      <td>75</td>\n",
       "      <td>81</td>\n",
       "      <td>80</td>\n",
       "      <td>80</td>\n",
       "      <td>79</td>\n",
       "      <td>2m</td>\n",
       "      <td>1</td>\n",
       "    </tr>\n",
       "    <tr>\n",
       "      <th>1197</th>\n",
       "      <td>78</td>\n",
       "      <td>75</td>\n",
       "      <td>81</td>\n",
       "      <td>79</td>\n",
       "      <td>81</td>\n",
       "      <td>78</td>\n",
       "      <td>2m</td>\n",
       "      <td>1</td>\n",
       "    </tr>\n",
       "    <tr>\n",
       "      <th>1198</th>\n",
       "      <td>78</td>\n",
       "      <td>75</td>\n",
       "      <td>80</td>\n",
       "      <td>79</td>\n",
       "      <td>81</td>\n",
       "      <td>76</td>\n",
       "      <td>2m</td>\n",
       "      <td>1</td>\n",
       "    </tr>\n",
       "    <tr>\n",
       "      <th>1199</th>\n",
       "      <td>78</td>\n",
       "      <td>75</td>\n",
       "      <td>80</td>\n",
       "      <td>78</td>\n",
       "      <td>81</td>\n",
       "      <td>75</td>\n",
       "      <td>2m</td>\n",
       "      <td>1</td>\n",
       "    </tr>\n",
       "  </tbody>\n",
       "</table>\n",
       "</div>"
      ],
      "text/plain": [
       "      ANTM Main  ANTM Sub1  ANTM Sub2  ANTM Sub3  ANTM Sub6  ANTM Sub7  \\\n",
       "1195         78         76         81         80         80         80   \n",
       "1196         78         75         81         80         80         79   \n",
       "1197         78         75         81         79         81         78   \n",
       "1198         78         75         80         79         81         76   \n",
       "1199         78         75         80         78         81         75   \n",
       "\n",
       "     Distance  Angle  \n",
       "1195       2m      1  \n",
       "1196       2m      1  \n",
       "1197       2m      1  \n",
       "1198       2m      1  \n",
       "1199       2m      1  "
      ]
     },
     "execution_count": 2,
     "metadata": {},
     "output_type": "execute_result"
    }
   ],
   "source": [
    "#train_x_orig, train_y, test_x_orig, test_y, classes = load_data()\n",
    "\n",
    "df_all = pd.DataFrame()\n",
    "df_all = pd.read_csv('./data/180724_LBS test_2st_ANTM_all_plus_leftright_012367.csv', encoding='CP949')\n",
    "df_all.columns = ['ANTM Main', 'ANTM Sub1', 'ANTM Sub2', 'ANTM Sub3', 'ANTM Sub6', 'ANTM Sub7', 'Distance', 'Angle']\n",
    "\n",
    "#df_000.head()\n",
    "df_all.tail()\n",
    "#print(df.head())\n",
    "#print(df.tail())"
   ]
  },
  {
   "cell_type": "code",
   "execution_count": 3,
   "metadata": {},
   "outputs": [
    {
     "name": "stdout",
     "output_type": "stream",
     "text": [
      "   ANTM Main  ANTM Sub1  ANTM Sub2  ANTM Sub3  ANTM Sub6  ANTM Sub7\n",
      "0         71         75         71         77         77         72\n",
      "1         71         75         72         78         76         72\n",
      "2         70         75         72         80         76         72\n",
      "3         70         75         72         82         76         72\n",
      "4         70         76         72         83         76         72\n",
      "      ANTM Main  ANTM Sub1  ANTM Sub2  ANTM Sub3  ANTM Sub6  ANTM Sub7\n",
      "1195         78         76         81         80         80         80\n",
      "1196         78         75         81         80         80         79\n",
      "1197         78         75         81         79         81         78\n",
      "1198         78         75         80         79         81         76\n",
      "1199         78         75         80         78         81         75\n",
      "   Angle\n",
      "0      0\n",
      "1      0\n",
      "2      0\n",
      "3      0\n",
      "4      0\n",
      "      Angle\n",
      "1195      1\n",
      "1196      1\n",
      "1197      1\n",
      "1198      1\n",
      "1199      1\n"
     ]
    }
   ],
   "source": [
    "cols_Module = ['ANTM Main', 'ANTM Sub1', 'ANTM Sub2', 'ANTM Sub3', 'ANTM Sub6', 'ANTM Sub7']\n",
    "cols_Angle = ['Angle']\n",
    "\n",
    "\n",
    "X = df_all[cols_Module]\n",
    "y = df_all[cols_Angle]\n",
    "\n",
    "print(X.head())\n",
    "print(X.tail())\n",
    "print(y.head())\n",
    "print(y.tail())"
   ]
  },
  {
   "cell_type": "code",
   "execution_count": 4,
   "metadata": {},
   "outputs": [
    {
     "name": "stdout",
     "output_type": "stream",
     "text": [
      "      ANTM Main  ANTM Sub1  ANTM Sub2  ANTM Sub3  ANTM Sub6  ANTM Sub7\n",
      "533          77         77         71         73         78         78\n",
      "903          78         76         72         74         73         71\n",
      "1003         72         78         87         74         75         80\n",
      "1069         73         80         87         74         85         80\n",
      "413          78         68         66         68         84         77\n",
      "      ANTM Main  ANTM Sub1  ANTM Sub2  ANTM Sub3  ANTM Sub6  ANTM Sub7\n",
      "1044         74         78         79         74         80         79\n",
      "1095         73         76         84         74         80         83\n",
      "1130         76         77         80         78         82         79\n",
      "860          68         75         69         79         67         60\n",
      "1126         77         78         78         78         81         78\n",
      "      ANTM Main  ANTM Sub1  ANTM Sub2  ANTM Sub3  ANTM Sub6  ANTM Sub7\n",
      "1178         77         75         80         80         78         77\n",
      "865          69         75         73         77         67         61\n",
      "101          74         78         77         73         74         74\n",
      "439          79         70         68         72         82         74\n",
      "58           72         75         69         86         75         72\n",
      "      ANTM Main  ANTM Sub1  ANTM Sub2  ANTM Sub3  ANTM Sub6  ANTM Sub7\n",
      "1037         74         78         83         73         78         80\n",
      "244          72         69         72         68         65         72\n",
      "158          72         85         72         72         74         74\n",
      "745          71         79         79         82         74         67\n",
      "192          72         84         78         75         74         74\n",
      "      Angle\n",
      "533       0\n",
      "903       1\n",
      "1003      1\n",
      "1069      1\n",
      "413       0\n",
      "      Angle\n",
      "1044      1\n",
      "1095      1\n",
      "1130      1\n",
      "860       1\n",
      "1126      1\n",
      "      Angle\n",
      "1178      1\n",
      "865       1\n",
      "101       0\n",
      "439       0\n",
      "58        0\n",
      "      Angle\n",
      "1037      1\n",
      "244       0\n",
      "158       0\n",
      "745       1\n",
      "192       0\n"
     ]
    }
   ],
   "source": [
    "# arrays : 데이터\n",
    "# test_size : 테스트 데이터 사이즈\n",
    "# train_size : 사이즈\n",
    "# random_state : 난수 시드\n",
    "\n",
    "# 사이트 참고\n",
    "# https://datascienceschool.net/view-notebook/266d699d748847b3a3aa7b9805b846ae/\n",
    "\n",
    "# 데이터 변환 사이트 참고\n",
    "# http://rfriend.tistory.com/tag/XY%EC%B6%95%20%ED%98%95%ED%83%9C%20%EB%B3%80%ED%99%98\n",
    "from sklearn.model_selection import train_test_split\n",
    "\n",
    "X_train, X_test, y_train, y_test = train_test_split(X, y, test_size=0.10, random_state=42)\n",
    "\n",
    "print(X_train.head())\n",
    "print(X_train.tail())\n",
    "print(X_test.head())\n",
    "print(X_test.tail())\n",
    "\n",
    "print(y_train.head())\n",
    "print(y_train.tail())\n",
    "print(y_test.head())\n",
    "print(y_test.tail())"
   ]
  },
  {
   "cell_type": "code",
   "execution_count": 5,
   "metadata": {
    "collapsed": true
   },
   "outputs": [],
   "source": [
    "# Explore your dataset \n",
    "# X_train, X_test, y_train, y_test\n",
    "\n",
    "# X_train, X_test가 예제와 다른 것이 아니다\n",
    "# 예제에서 두 데이터의 shape가 바뀌는 부분이 이곳에 통합되었다.\n",
    "X_train = np.transpose(X_train)\n",
    "X_test = np.transpose(X_test)\n",
    "\n",
    "y_train = np.transpose(y_train)\n",
    "y_test = np.transpose(y_test)"
   ]
  },
  {
   "cell_type": "code",
   "execution_count": 6,
   "metadata": {},
   "outputs": [
    {
     "name": "stdout",
     "output_type": "stream",
     "text": [
      "Number of training examples: 1080\n",
      "Number of testing examples: 120\n",
      "train_x shape: (6, 1080)\n",
      "train_y shape: (1, 1080)\n",
      "test_x shape: (6, 120)\n",
      "test_y shape: (1, 120)\n"
     ]
    }
   ],
   "source": [
    "m_train = X_train.shape[1]\n",
    "m_test = X_test.shape[1]\n",
    "\n",
    "print (\"Number of training examples: \" + str(m_train))\n",
    "print (\"Number of testing examples: \" + str(m_test))\n",
    "print (\"train_x shape: \" + str(X_train.shape))\n",
    "print (\"train_y shape: \" + str(y_train.shape))\n",
    "print (\"test_x shape: \" + str(X_test.shape))\n",
    "print (\"test_y shape: \" + str(y_test.shape))"
   ]
  },
  {
   "cell_type": "code",
   "execution_count": 7,
   "metadata": {},
   "outputs": [
    {
     "data": {
      "text/plain": [
       "array([[1, 1, 0, 0, 0, 1, 0, 1, 0, 1, 1, 0, 0, 1, 0, 0, 0, 1, 1, 0, 0, 1,\n",
       "        1, 0, 0, 0, 1, 0, 0, 0, 0, 1, 1, 1, 0, 0, 0, 0, 0, 1, 1, 0, 1, 0,\n",
       "        1, 0, 0, 0, 0, 0, 1, 1, 0, 0, 1, 0, 1, 1, 1, 0, 0, 0, 0, 0, 0, 1,\n",
       "        0, 0, 0, 0, 0, 0, 1, 0, 0, 0, 0, 0, 1, 1, 1, 0, 1, 0, 0, 1, 1, 0,\n",
       "        1, 1, 0, 0, 0, 0, 1, 1, 0, 1, 0, 0, 0, 0, 1, 0, 1, 1, 1, 1, 1, 1,\n",
       "        0, 1, 0, 1, 1, 1, 0, 0, 1, 0]], dtype=int64)"
      ]
     },
     "execution_count": 7,
     "metadata": {},
     "output_type": "execute_result"
    }
   ],
   "source": [
    "# X_train, X_test, y_train, y_test\n",
    "train_x = np.array(X_train)\n",
    "test_x = np.array(X_test)\n",
    "train_y = np.array(y_train)\n",
    "test_y = np.array(y_test)\n",
    "\n",
    "test_y"
   ]
  },
  {
   "cell_type": "markdown",
   "metadata": {},
   "source": [
    "## 3 - Architecture of your model"
   ]
  },
  {
   "cell_type": "markdown",
   "metadata": {},
   "source": [
    "## 4 - Two-layer neural network\n",
    "\n",
    "**Question**:  Use the helper functions you have implemented in the previous assignment to build a 2-layer neural network with the following structure: *LINEAR -> RELU -> LINEAR -> SIGMOID*. The functions you may need and their inputs are:\n",
    "```python\n",
    "def initialize_parameters(n_x, n_h, n_y):\n",
    "    ...\n",
    "    return parameters \n",
    "def linear_activation_forward(A_prev, W, b, activation):\n",
    "    ...\n",
    "    return A, cache\n",
    "def compute_cost(AL, Y):\n",
    "    ...\n",
    "    return cost\n",
    "def linear_activation_backward(dA, cache, activation):\n",
    "    ...\n",
    "    return dA_prev, dW, db\n",
    "def update_parameters(parameters, grads, learning_rate):\n",
    "    ...\n",
    "    return parameters\n",
    "```"
   ]
  },
  {
   "cell_type": "code",
   "execution_count": 8,
   "metadata": {
    "collapsed": true
   },
   "outputs": [],
   "source": [
    "### CONSTANTS DEFINING THE MODEL ####\n",
    "n_x = 6\n",
    "n_h = 6\n",
    "n_y = 1\n",
    "layers_dims = (n_x, n_h, n_y)"
   ]
  },
  {
   "cell_type": "code",
   "execution_count": 9,
   "metadata": {
    "collapsed": true
   },
   "outputs": [],
   "source": [
    "# GRADED FUNCTION: two_layer_model\n",
    "# default : learning_rate = 0.0075\n",
    "\n",
    "def two_layer_model(X, Y, layers_dims, learning_rate = 0.0025, num_iterations = 5000, print_cost=False):\n",
    "    \"\"\"\n",
    "    Implements a two-layer neural network: LINEAR->RELU->LINEAR->SIGMOID.\n",
    "    \n",
    "    Arguments:\n",
    "    X -- input data, of shape (n_x, number of examples)\n",
    "    Y -- true \"label\" vector (containing 0 if cat, 1 if non-cat), of shape (1, number of examples)\n",
    "    layers_dims -- dimensions of the layers (n_x, n_h, n_y)\n",
    "    num_iterations -- number of iterations of the optimization loop\n",
    "    learning_rate -- learning rate of the gradient descent update rule\n",
    "    print_cost -- If set to True, this will print the cost every 100 iterations \n",
    "    \n",
    "    Returns:\n",
    "    parameters -- a dictionary containing W1, W2, b1, and b2\n",
    "    \"\"\"\n",
    "    \n",
    "    np.random.seed(1)\n",
    "    grads = {}\n",
    "    costs = []                              # to keep track of the cost\n",
    "    m = X.shape[1]                           # number of examples\n",
    "    (n_x, n_h, n_y) = layers_dims\n",
    "    \n",
    "    # Initialize parameters dictionary, by calling one of the functions you'd previously implemented\n",
    "    ### START CODE HERE ### (≈ 1 line of code)\n",
    "    parameters = initialize_parameters(n_x, n_h, n_y)\n",
    "    ### END CODE HERE ###\n",
    "    \n",
    "    # Get W1, b1, W2 and b2 from the dictionary parameters.\n",
    "    W1 = parameters[\"W1\"]\n",
    "    b1 = parameters[\"b1\"]\n",
    "    W2 = parameters[\"W2\"]\n",
    "    b2 = parameters[\"b2\"]\n",
    "    \n",
    "    # Loop (gradient descent)\n",
    "\n",
    "    for i in range(0, num_iterations):\n",
    "\n",
    "        # Forward propagation: LINEAR -> RELU -> LINEAR -> SIGMOID. Inputs: \"X, W1, b1, W2, b2\". Output: \"A1, cache1, A2, cache2\".\n",
    "        ### START CODE HERE ### (≈ 2 lines of code)\n",
    "        A1, cache1 = linear_activation_forward(X, W1, b1, activation = \"relu\")\n",
    "        A2, cache2 = linear_activation_forward(A1, W2, b2, activation = \"sigmoid\")\n",
    "        ### END CODE HERE ###\n",
    "        \n",
    "        # Compute cost\n",
    "        ### START CODE HERE ### (≈ 1 line of code)\n",
    "        cost = compute_cost(A2, Y)\n",
    "        ### END CODE HERE ###\n",
    "        \n",
    "        # Initializing backward propagation\n",
    "        dA2 = - (np.divide(Y, A2) - np.divide(1 - Y, 1 - A2))\n",
    "        \n",
    "        # Backward propagation. Inputs: \"dA2, cache2, cache1\". Outputs: \"dA1, dW2, db2; also dA0 (not used), dW1, db1\".\n",
    "        ### START CODE HERE ### (≈ 2 lines of code)\n",
    "        dA1, dW2, db2 = linear_activation_backward(dA2, cache2, activation = \"sigmoid\")\n",
    "        dA0, dW1, db1 = linear_activation_backward(dA1, cache1, activation = \"relu\")\n",
    "        ### END CODE HERE ###\n",
    "        \n",
    "        # Set grads['dWl'] to dW1, grads['db1'] to db1, grads['dW2'] to dW2, grads['db2'] to db2\n",
    "        grads['dW1'] = dW1\n",
    "        grads['db1'] = db1\n",
    "        grads['dW2'] = dW2\n",
    "        grads['db2'] = db2\n",
    "        \n",
    "        # Update parameters.\n",
    "        ### START CODE HERE ### (approx. 1 line of code)\n",
    "        parameters = update_parameters(parameters, grads, learning_rate)\n",
    "        ### END CODE HERE ###\n",
    "\n",
    "        # Retrieve W1, b1, W2, b2 from parameters\n",
    "        W1 = parameters[\"W1\"]\n",
    "        b1 = parameters[\"b1\"]\n",
    "        W2 = parameters[\"W2\"]\n",
    "        b2 = parameters[\"b2\"]\n",
    "        \n",
    "        # Print the cost every 100 training example\n",
    "        if print_cost and i % 500 == 0:\n",
    "            print(\"Cost after iteration {}: {}\".format(i, np.squeeze(cost)))\n",
    "        if print_cost and i % 500 == 0:\n",
    "            costs.append(cost)\n",
    "       \n",
    "    # plot the cost\n",
    "\n",
    "    plt.plot(np.squeeze(costs))\n",
    "    plt.ylabel('cost')\n",
    "    plt.xlabel('iterations (per tens)')\n",
    "    plt.title(\"Learning rate =\" + str(learning_rate))\n",
    "    plt.show()\n",
    "    \n",
    "    print(\"Cost after iteration {}: {}\".format(i, np.squeeze(cost)))\n",
    "    \n",
    "    return parameters"
   ]
  },
  {
   "cell_type": "code",
   "execution_count": 10,
   "metadata": {},
   "outputs": [
    {
     "name": "stdout",
     "output_type": "stream",
     "text": [
      "Cost after iteration 0: 0.6931239603774909\n",
      "Cost after iteration 500: 0.6877585534339573\n",
      "Cost after iteration 1000: 0.6259221165698686\n",
      "Cost after iteration 1500: 0.5588334172990511\n",
      "Cost after iteration 2000: 0.5145704580303796\n",
      "Cost after iteration 2500: 0.4773434768275041\n",
      "Cost after iteration 3000: 0.44646470771318814\n",
      "Cost after iteration 3500: 0.42387805214987173\n",
      "Cost after iteration 4000: 0.40065497222018376\n",
      "Cost after iteration 4500: 0.38315087955857274\n",
      "Cost after iteration 5000: 0.37015125020972606\n",
      "Cost after iteration 5500: 0.3563665290658696\n",
      "Cost after iteration 6000: 0.34557341547990916\n",
      "Cost after iteration 6500: 0.3313134256520134\n",
      "Cost after iteration 7000: 0.3270366986305562\n",
      "Cost after iteration 7500: 0.32107834353101067\n",
      "Cost after iteration 8000: 0.3180792410073065\n",
      "Cost after iteration 8500: 0.311410038210568\n",
      "Cost after iteration 9000: 0.3002396214772729\n",
      "Cost after iteration 9500: 0.2989532903381502\n"
     ]
    },
    {
     "data": {
      "image/png": "[encoded data removed]",
      "text/plain": [
       "<matplotlib.figure.Figure at 0x260e0cd7dd8>"
      ]
     },
     "metadata": {},
     "output_type": "display_data"
    },
    {
     "name": "stdout",
     "output_type": "stream",
     "text": [
      "Cost after iteration 9999: 0.2991177979729428\n"
     ]
    }
   ],
   "source": [
    "parameters = two_layer_model(train_x, train_y, layers_dims = (n_x, n_h, n_y), num_iterations = 10000, print_cost=True)"
   ]
  },
  {
   "cell_type": "code",
   "execution_count": 11,
   "metadata": {},
   "outputs": [
    {
     "name": "stdout",
     "output_type": "stream",
     "text": [
      "Accuracy: 0.875925925926\n"
     ]
    }
   ],
   "source": [
    "predictions_train = predict(train_x, train_y, parameters)"
   ]
  },
  {
   "cell_type": "code",
   "execution_count": 12,
   "metadata": {},
   "outputs": [
    {
     "name": "stdout",
     "output_type": "stream",
     "text": [
      "(6, 1080)\n",
      "[[77 78 72 ..., 76 68 77]\n",
      " [77 76 78 ..., 77 75 78]\n",
      " [71 72 87 ..., 80 69 78]\n",
      " [73 74 74 ..., 78 79 78]\n",
      " [78 73 75 ..., 82 67 81]\n",
      " [78 71 80 ..., 79 60 78]]\n",
      "(1, 1080)\n",
      "[[0 1 1 ..., 1 1 1]]\n"
     ]
    }
   ],
   "source": [
    "print(train_x.shape)\n",
    "print(train_x)\n",
    "print(train_y.shape)\n",
    "print(train_y)"
   ]
  },
  {
   "cell_type": "code",
   "execution_count": 13,
   "metadata": {
    "scrolled": true
   },
   "outputs": [
    {
     "name": "stdout",
     "output_type": "stream",
     "text": [
      "Accuracy: 0.833333333333\n"
     ]
    }
   ],
   "source": [
    "predictions_test = predict(test_x, test_y, parameters)"
   ]
  },
  {
   "cell_type": "markdown",
   "metadata": {},
   "source": [
    "## 5 - L-layer Neural Network\n",
    "\n",
    "**Question**: Use the helper functions you have implemented previously to build an $L$-layer neural network with the following structure: *[LINEAR -> RELU]$\\times$(L-1) -> LINEAR -> SIGMOID*. The functions you may need and their inputs are:\n",
    "```python\n",
    "def initialize_parameters_deep(layers_dims):\n",
    "    ...\n",
    "    return parameters \n",
    "def L_model_forward(X, parameters):\n",
    "    ...\n",
    "    return AL, caches\n",
    "def compute_cost(AL, Y):\n",
    "    ...\n",
    "    return cost\n",
    "def L_model_backward(AL, Y, caches):\n",
    "    ...\n",
    "    return grads\n",
    "def update_parameters(parameters, grads, learning_rate):\n",
    "    ...\n",
    "    return parameters\n",
    "```"
   ]
  },
  {
   "cell_type": "code",
   "execution_count": 15,
   "metadata": {
    "collapsed": true
   },
   "outputs": [],
   "source": [
    "### CONSTANTS ###\n",
    "#layers_dims = [12288, 20, 7, 5, 1] #  4-layer model\n",
    "layers_dims = [6, 20, 7, 5, 1] #  4-layer model"
   ]
  },
  {
   "cell_type": "code",
   "execution_count": 16,
   "metadata": {
    "collapsed": true
   },
   "outputs": [],
   "source": [
    "# GRADED FUNCTION: L_layer_model\n",
    "\n",
    "def L_layer_model(X, Y, layers_dims, learning_rate = 0.0075, num_iterations = 3000, print_cost=False):#lr was 0.009\n",
    "    \"\"\"\n",
    "    Implements a L-layer neural network: [LINEAR->RELU]*(L-1)->LINEAR->SIGMOID.\n",
    "    \n",
    "    Arguments:\n",
    "    X -- data, numpy array of shape (number of examples, num_px * num_px * 3)\n",
    "    Y -- true \"label\" vector (containing 0 if cat, 1 if non-cat), of shape (1, number of examples)\n",
    "    layers_dims -- list containing the input size and each layer size, of length (number of layers + 1).\n",
    "    learning_rate -- learning rate of the gradient descent update rule\n",
    "    num_iterations -- number of iterations of the optimization loop\n",
    "    print_cost -- if True, it prints the cost every 100 steps\n",
    "    \n",
    "    Returns:\n",
    "    parameters -- parameters learnt by the model. They can then be used to predict.\n",
    "    \"\"\"\n",
    "\n",
    "    np.random.seed(1)\n",
    "    costs = []                         # keep track of cost\n",
    "    \n",
    "    # Parameters initialization. (≈ 1 line of code)\n",
    "    ### START CODE HERE ###\n",
    "    parameters = initialize_parameters_deep(layers_dims)\n",
    "    ### END CODE HERE ###\n",
    "    \n",
    "    # Loop (gradient descent)\n",
    "    for i in range(0, num_iterations):\n",
    "\n",
    "        # Forward propagation: [LINEAR -> RELU]*(L-1) -> LINEAR -> SIGMOID.\n",
    "        ### START CODE HERE ### (≈ 1 line of code)\n",
    "        AL, caches = L_model_forward(X, parameters)\n",
    "        ### END CODE HERE ###\n",
    "        \n",
    "        # Compute cost.\n",
    "        ### START CODE HERE ### (≈ 1 line of code)\n",
    "        cost = compute_cost(AL, Y)\n",
    "        ### END CODE HERE ###\n",
    "    \n",
    "        # Backward propagation.\n",
    "        ### START CODE HERE ### (≈ 1 line of code)\n",
    "        grads = L_model_backward(AL, Y, caches)\n",
    "        ### END CODE HERE ###\n",
    " \n",
    "        # Update parameters.\n",
    "        ### START CODE HERE ### (≈ 1 line of code)\n",
    "        parameters = update_parameters(parameters, grads, learning_rate)\n",
    "        ### END CODE HERE ###\n",
    "                \n",
    "        # Print the cost every 100 training example\n",
    "        if print_cost and i % 500 == 0:\n",
    "            print (\"Cost after iteration %i: %f\" %(i, cost))\n",
    "        if print_cost and i % 500 == 0:\n",
    "            costs.append(cost)\n",
    "            \n",
    "    # plot the cost\n",
    "    plt.plot(np.squeeze(costs))\n",
    "    plt.ylabel('cost')\n",
    "    plt.xlabel('iterations (per tens)')\n",
    "    plt.title(\"Learning rate =\" + str(learning_rate))\n",
    "    plt.show()\n",
    "    \n",
    "    print (\"Cost after iteration %i: %f\" %(i, cost))\n",
    "    \n",
    "    return parameters"
   ]
  },
  {
   "cell_type": "code",
   "execution_count": 17,
   "metadata": {
    "scrolled": false
   },
   "outputs": [
    {
     "name": "stdout",
     "output_type": "stream",
     "text": [
      "Cost after iteration 0: 3.772790\n",
      "Cost after iteration 500: 0.492028\n",
      "Cost after iteration 1000: 0.439121\n",
      "Cost after iteration 1500: 0.370393\n",
      "Cost after iteration 2000: 0.338773\n",
      "Cost after iteration 2500: 0.341829\n",
      "Cost after iteration 3000: 0.369390\n",
      "Cost after iteration 3500: 0.397540\n",
      "Cost after iteration 4000: 0.361153\n",
      "Cost after iteration 4500: 0.208384\n",
      "Cost after iteration 5000: 0.219622\n",
      "Cost after iteration 5500: 0.175378\n",
      "Cost after iteration 6000: 0.187407\n",
      "Cost after iteration 6500: 0.162435\n",
      "Cost after iteration 7000: 0.139980\n",
      "Cost after iteration 7500: 0.126751\n",
      "Cost after iteration 8000: 0.091604\n",
      "Cost after iteration 8500: 0.085884\n",
      "Cost after iteration 9000: 0.081100\n",
      "Cost after iteration 9500: 0.075317\n"
     ]
    },
    {
     "data": {
      "image/png": "[encoded data removed]",
      "text/plain": [
       "<matplotlib.figure.Figure at 0x260e16993c8>"
      ]
     },
     "metadata": {},
     "output_type": "display_data"
    },
    {
     "name": "stdout",
     "output_type": "stream",
     "text": [
      "Cost after iteration 9999: 0.071808\n"
     ]
    }
   ],
   "source": [
    "parameters = L_layer_model(train_x, train_y, layers_dims, num_iterations = 10000, print_cost = True)"
   ]
  },
  {
   "cell_type": "code",
   "execution_count": 18,
   "metadata": {
    "scrolled": true
   },
   "outputs": [
    {
     "name": "stdout",
     "output_type": "stream",
     "text": [
      "Accuracy: 0.984259259259\n"
     ]
    }
   ],
   "source": [
    "pred_train = predict(train_x, train_y, parameters)"
   ]
  },
  {
   "cell_type": "code",
   "execution_count": 18,
   "metadata": {},
   "outputs": [
    {
     "name": "stdout",
     "output_type": "stream",
     "text": [
      "Accuracy: 0.975\n"
     ]
    }
   ],
   "source": [
    "pred_test = predict(test_x, test_y, parameters)"
   ]
  },
  {
   "cell_type": "code",
   "execution_count": 19,
   "metadata": {},
   "outputs": [
    {
     "data": {
      "text/html": [
       "<div>\n",
       "<style>\n",
       "    .dataframe thead tr:only-child th {\n",
       "        text-align: right;\n",
       "    }\n",
       "\n",
       "    .dataframe thead th {\n",
       "        text-align: left;\n",
       "    }\n",
       "\n",
       "    .dataframe tbody tr th {\n",
       "        vertical-align: top;\n",
       "    }\n",
       "</style>\n",
       "<table border=\"1\" class=\"dataframe\">\n",
       "  <thead>\n",
       "    <tr style=\"text-align: right;\">\n",
       "      <th></th>\n",
       "      <th>ANTM Main</th>\n",
       "      <th>ANTM Sub1</th>\n",
       "      <th>ANTM Sub2</th>\n",
       "      <th>ANTM Sub3</th>\n",
       "      <th>ANTM Sub6</th>\n",
       "      <th>ANTM Sub7</th>\n",
       "      <th>Distance</th>\n",
       "      <th>Angle</th>\n",
       "    </tr>\n",
       "  </thead>\n",
       "  <tbody>\n",
       "    <tr>\n",
       "      <th>595</th>\n",
       "      <td>78</td>\n",
       "      <td>61</td>\n",
       "      <td>67</td>\n",
       "      <td>62</td>\n",
       "      <td>75</td>\n",
       "      <td>67</td>\n",
       "      <td>1m</td>\n",
       "      <td>1</td>\n",
       "    </tr>\n",
       "    <tr>\n",
       "      <th>596</th>\n",
       "      <td>78</td>\n",
       "      <td>61</td>\n",
       "      <td>67</td>\n",
       "      <td>63</td>\n",
       "      <td>75</td>\n",
       "      <td>67</td>\n",
       "      <td>1m</td>\n",
       "      <td>1</td>\n",
       "    </tr>\n",
       "    <tr>\n",
       "      <th>597</th>\n",
       "      <td>78</td>\n",
       "      <td>62</td>\n",
       "      <td>68</td>\n",
       "      <td>63</td>\n",
       "      <td>75</td>\n",
       "      <td>67</td>\n",
       "      <td>1m</td>\n",
       "      <td>1</td>\n",
       "    </tr>\n",
       "    <tr>\n",
       "      <th>598</th>\n",
       "      <td>78</td>\n",
       "      <td>62</td>\n",
       "      <td>68</td>\n",
       "      <td>63</td>\n",
       "      <td>75</td>\n",
       "      <td>67</td>\n",
       "      <td>1m</td>\n",
       "      <td>1</td>\n",
       "    </tr>\n",
       "    <tr>\n",
       "      <th>599</th>\n",
       "      <td>78</td>\n",
       "      <td>62</td>\n",
       "      <td>68</td>\n",
       "      <td>63</td>\n",
       "      <td>75</td>\n",
       "      <td>67</td>\n",
       "      <td>1m</td>\n",
       "      <td>1</td>\n",
       "    </tr>\n",
       "  </tbody>\n",
       "</table>\n",
       "</div>"
      ],
      "text/plain": [
       "     ANTM Main  ANTM Sub1  ANTM Sub2  ANTM Sub3  ANTM Sub6  ANTM Sub7  \\\n",
       "595         78         61         67         62         75         67   \n",
       "596         78         61         67         63         75         67   \n",
       "597         78         62         68         63         75         67   \n",
       "598         78         62         68         63         75         67   \n",
       "599         78         62         68         63         75         67   \n",
       "\n",
       "    Distance  Angle  \n",
       "595       1m      1  \n",
       "596       1m      1  \n",
       "597       1m      1  \n",
       "598       1m      1  \n",
       "599       1m      1  "
      ]
     },
     "execution_count": 19,
     "metadata": {},
     "output_type": "execute_result"
    }
   ],
   "source": [
    "df_extra = pd.DataFrame()\n",
    "df_extra = pd.read_csv('./data/180724_LBS test_2st_ANTM_all_plus_leftright_012367_extradata03.csv', encoding='CP949')\n",
    "df_extra.columns = ['ANTM Main', 'ANTM Sub1', 'ANTM Sub2', 'ANTM Sub3', 'ANTM Sub6', 'ANTM Sub7', 'Distance', 'Angle']\n",
    "\n",
    "#df_000.head()\n",
    "df_extra.tail()"
   ]
  },
  {
   "cell_type": "code",
   "execution_count": 20,
   "metadata": {},
   "outputs": [
    {
     "name": "stdout",
     "output_type": "stream",
     "text": [
      "   ANTM Main  ANTM Sub1  ANTM Sub2  ANTM Sub3  ANTM Sub6  ANTM Sub7\n",
      "0         69         60         74         67         60         74\n",
      "1         69         60         75         68         60         74\n",
      "2         69         60         75         68         61         74\n",
      "3         70         60         75         68         62         74\n",
      "4         72         60         75         68         62         74\n",
      "     ANTM Main  ANTM Sub1  ANTM Sub2  ANTM Sub3  ANTM Sub6  ANTM Sub7\n",
      "595         78         61         67         62         75         67\n",
      "596         78         61         67         63         75         67\n",
      "597         78         62         68         63         75         67\n",
      "598         78         62         68         63         75         67\n",
      "599         78         62         68         63         75         67\n",
      "   Angle\n",
      "0      0\n",
      "1      0\n",
      "2      0\n",
      "3      0\n",
      "4      0\n",
      "     Angle\n",
      "595      1\n",
      "596      1\n",
      "597      1\n",
      "598      1\n",
      "599      1\n"
     ]
    }
   ],
   "source": [
    "cols_Module = ['ANTM Main', 'ANTM Sub1', 'ANTM Sub2', 'ANTM Sub3', 'ANTM Sub6', 'ANTM Sub7']\n",
    "cols_Angle = ['Angle']\n",
    "\n",
    "\n",
    "Xe = df_extra[cols_Module]\n",
    "ye = df_extra[cols_Angle]\n",
    "\n",
    "print(Xe.head())\n",
    "print(Xe.tail())\n",
    "print(ye.head())\n",
    "print(ye.tail())"
   ]
  },
  {
   "cell_type": "code",
   "execution_count": 21,
   "metadata": {
    "collapsed": true
   },
   "outputs": [],
   "source": [
    "Xe = np.transpose(Xe)\n",
    "ye = np.transpose(ye)"
   ]
  },
  {
   "cell_type": "code",
   "execution_count": 22,
   "metadata": {},
   "outputs": [
    {
     "name": "stdout",
     "output_type": "stream",
     "text": [
      "Number of extra examples: 600\n",
      "Xe shape: (6, 600)\n",
      "ye shape: (1, 600)\n"
     ]
    }
   ],
   "source": [
    "m_train = Xe.shape[1]\n",
    "\n",
    "print (\"Number of extra examples: \" + str(m_train))\n",
    "print (\"Xe shape: \" + str(Xe.shape))\n",
    "print (\"ye shape: \" + str(ye.shape))"
   ]
  },
  {
   "cell_type": "code",
   "execution_count": 23,
   "metadata": {},
   "outputs": [
    {
     "data": {
      "text/plain": [
       "array([[69, 69, 69, ..., 78, 78, 78],\n",
       "       [60, 60, 60, ..., 62, 62, 62],\n",
       "       [74, 75, 75, ..., 68, 68, 68],\n",
       "       [67, 68, 68, ..., 63, 63, 63],\n",
       "       [60, 60, 61, ..., 75, 75, 75],\n",
       "       [74, 74, 74, ..., 67, 67, 67]], dtype=int64)"
      ]
     },
     "execution_count": 23,
     "metadata": {},
     "output_type": "execute_result"
    }
   ],
   "source": [
    "# X_train, X_test, y_train, y_test\n",
    "Xe = np.array(Xe)\n",
    "ye = np.array(ye)\n",
    "\n",
    "Xe"
   ]
  },
  {
   "cell_type": "code",
   "execution_count": 24,
   "metadata": {},
   "outputs": [
    {
     "name": "stdout",
     "output_type": "stream",
     "text": [
      "Accuracy: 0.526666666667\n"
     ]
    }
   ],
   "source": [
    "pred_test = predict(Xe, ye, parameters)"
   ]
  },
  {
   "cell_type": "code",
   "execution_count": null,
   "metadata": {
    "collapsed": true
   },
   "outputs": [],
   "source": []
  }
 ],
 "metadata": {
  "coursera": {
   "course_slug": "neural-networks-deep-learning",
   "graded_item_id": "TSPse",
   "launcher_item_id": "24mxX"
  },
  "kernelspec": {
   "display_name": "Python 3",
   "language": "python",
   "name": "python3"
  },
  "language_info": {
   "codemirror_mode": {
    "name": "ipython",
    "version": 3
   },
   "file_extension": ".py",
   "mimetype": "text/x-python",
   "name": "python",
   "nbconvert_exporter": "python",
   "pygments_lexer": "ipython3",
   "version": "3.5.3"
  }
 },
 "nbformat": 4,
 "nbformat_minor": 2
}
