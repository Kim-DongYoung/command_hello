{
 "cells": [
  {
   "cell_type": "code",
   "execution_count": 4,
   "metadata": {
    "collapsed": true
   },
   "outputs": [],
   "source": [
    "#-*-coding:utf-8-*-\n",
    "import cv2\n",
    "import numpy as np\n",
    "from matplotlib import pyplot as plt\n"
   ]
  },
  {
   "cell_type": "code",
   "execution_count": 30,
   "metadata": {
    "collapsed": true
   },
   "outputs": [],
   "source": [
    "# 히스토그램 평활화 (CLAHE)\n",
    "\n",
    "img = cv2.imread('./FIJI_samples/AuPbSn40.jpg',0);\n",
    "\n",
    "# contrast limit가 2이고 title의 size는 8X8\n",
    "clahe = cv2.createCLAHE(clipLimit=2.0, tileGridSize=(8,8))\n",
    "img2 = clahe.apply(img)\n",
    "\n",
    "img = cv2.resize(img,(240,320))\n",
    "img2 = cv2.resize(img2,(240,320))\n",
    "\n",
    "img3 = img2-img\n",
    "\n",
    "# GaussianBlur\n",
    "img4 = cv2.GaussianBlur(img2,(5,5),0)"
   ]
  },
  {
   "cell_type": "code",
   "execution_count": 31,
   "metadata": {
    "collapsed": true
   },
   "outputs": [],
   "source": [
    "# img  : 원본\n",
    "# img2 : 히스토그램 평활화\n",
    "# img3 : img2 - img\n",
    "# img4 : 히스토그램 펼활화 -> 가우시안 블러링\n",
    "\n",
    "dst = np.hstack((img, img2, img3, img4))\n",
    "cv2.imshow('img',dst)\n",
    "cv2.waitKey()\n",
    "cv2.destroyAllWindows()"
   ]
  },
  {
   "cell_type": "code",
   "execution_count": 32,
   "metadata": {
    "collapsed": true
   },
   "outputs": [],
   "source": [
    "# 이미지 블렌딩\n",
    "# 히스토그램 평활화의 변화량과 가우시안 필터링 결과값을 합침.\n",
    "\n",
    "def nothing(x):\n",
    "    pass\n",
    "\n",
    "cv2.namedWindow('image')\n",
    "cv2.createTrackbar('W', 'image', 0, 100, nothing)\n",
    "\n",
    "while True:\n",
    "\n",
    "    w = cv2.getTrackbarPos('W','image')\n",
    "\n",
    "    dst = cv2.addWeighted(img3,float(100-w) * 0.01, img4,float(w) * 0.01,0)\n",
    "\n",
    "    cv2.imshow('dst', dst)\n",
    "\n",
    "    if cv2.waitKey(1) &0xFF == 27:\n",
    "        break;\n",
    "\n",
    "cv2.destroyAllWindows()"
   ]
  },
  {
   "cell_type": "code",
   "execution_count": 33,
   "metadata": {
    "collapsed": true
   },
   "outputs": [],
   "source": [
    "# 이미지 블렌딩\n",
    "# 히스토그램 평활화의 변화량과 가우시안 필터링 결과값을 합침.\n",
    "\n",
    "dst = cv2.addWeighted(img3,float(100-83) * 0.01, img4,float(83) * 0.01,0)\n",
    "cv2.imshow('dst', dst)\n",
    "cv2.waitKey()\n",
    "cv2.destroyAllWindows()"
   ]
  },
  {
   "cell_type": "code",
   "execution_count": 34,
   "metadata": {
    "collapsed": true
   },
   "outputs": [],
   "source": [
    "# 미디언 필터링\n",
    "\n",
    "# Median Blur\n",
    "img5 = cv2.medianBlur(dst,3)\n",
    "\n",
    "# img4 : 히스토그램 펼활화 -> 가우시안 블러링\n",
    "# dst  : 이미지 블렌딩 \n",
    "#        (히스토그램 평활화의 변화량(img2 - img) + 가우시안 블러링(img4))\n",
    "# img5 : dst의 미디언 필터링\n",
    "dst3 = np.hstack((img4, dst, img5))\n",
    "cv2.imshow('img', dst3)\n",
    "cv2.waitKey()\n",
    "cv2.destroyAllWindows()"
   ]
  },
  {
   "cell_type": "code",
   "execution_count": 35,
   "metadata": {
    "collapsed": true
   },
   "outputs": [],
   "source": [
    "# Otsu의 이진화\n",
    "\n",
    "# Otsu thresholding (제안 모델)\n",
    "ret3, th3 = cv2.threshold(img5, 0, 255, cv2.THRESH_BINARY+cv2.THRESH_OTSU)\n",
    "# Otsu thresholding (원본 이미지)\n",
    "ret4, th4 = cv2.threshold(img, 0, 255, cv2.THRESH_BINARY+cv2.THRESH_OTSU)\n",
    "\n",
    "imgt1 = th3 - th4\n",
    "imgt2 = th4 - th3\n",
    "img7 = np.maximum(imgt1,imgt2)\n",
    "\n",
    "dst5 = np.hstack((img5, th3, th4, img7))\n",
    "cv2.imshow('img', dst5)\n",
    "cv2.waitKey()\n",
    "cv2.destroyAllWindows()"
   ]
  },
  {
   "cell_type": "code",
   "execution_count": null,
   "metadata": {
    "collapsed": true
   },
   "outputs": [],
   "source": []
  }
 ],
 "metadata": {
  "kernelspec": {
   "display_name": "Python 3",
   "language": "python",
   "name": "python3"
  },
  "language_info": {
   "codemirror_mode": {
    "name": "ipython",
    "version": 3
   },
   "file_extension": ".py",
   "mimetype": "text/x-python",
   "name": "python",
   "nbconvert_exporter": "python",
   "pygments_lexer": "ipython3",
   "version": "3.5.3"
  }
 },
 "nbformat": 4,
 "nbformat_minor": 2
}
