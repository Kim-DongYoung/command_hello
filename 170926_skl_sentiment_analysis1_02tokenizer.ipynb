{
 "cells": [
  {
   "cell_type": "code",
   "execution_count": 1,
   "metadata": {
    "collapsed": true
   },
   "outputs": [],
   "source": [
    "# 파이썬 확장 라이브러리 NLTK(Natural Language ToolKit) 설치 필요\n",
    "# 설치 명령어 : pip3 install nltk \n",
    "\n",
    "# 추가로 nltk에 stopwords를 다운로드 해야함\n",
    "# 다운로드 명령어 :\n",
    "# import nltk\n",
    "# nltk.download('stopwords')\n",
    "\n",
    "from nltk.stem.porter import PorterStemmer\n",
    "from nltk.corpus import stopwords\n",
    "\n",
    "porter = PorterStemmer()\n",
    "stop = stopwords.words('english')\n",
    "\n",
    "# 공백으로 단어 분리\n",
    "def tokenizer(text):\n",
    "    return text.split()\n",
    "\n",
    "# Porter Stemming 알고리즘을 이용해 단어 분리\n",
    "# 1979년 Martin F. Porter가 개발한 단어줄기(word stemming) 기법을 말함.\n",
    "# -> 단어가 있을 때 그 단어의 원형으로 대체하여 분리하는 방법\n",
    "def tokenizer_porter(text):\n",
    "    return [porter.stem(word) for word in text.split()]"
   ]
  },
  {
   "cell_type": "code",
   "execution_count": null,
   "metadata": {
    "collapsed": true
   },
   "outputs": [],
   "source": []
  }
 ],
 "metadata": {
  "kernelspec": {
   "display_name": "Python [conda env:tensorflow]",
   "language": "python",
   "name": "conda-env-tensorflow-py"
  },
  "language_info": {
   "codemirror_mode": {
    "name": "ipython",
    "version": 3
   },
   "file_extension": ".py",
   "mimetype": "text/x-python",
   "name": "python",
   "nbconvert_exporter": "python",
   "pygments_lexer": "ipython3",
   "version": "3.5.3"
  }
 },
 "nbformat": 4,
 "nbformat_minor": 2
}
