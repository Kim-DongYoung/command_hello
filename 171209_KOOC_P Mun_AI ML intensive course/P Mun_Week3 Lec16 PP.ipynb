{
 "cells": [
  {
   "cell_type": "code",
   "execution_count": 6,
   "metadata": {},
   "outputs": [],
   "source": [
    "import numpy as np\n",
    "import pandas as pd\n",
    "import matplotlib\n",
    "import matplotlib.pyplot as plt\n",
    "from matplotlib import style\n",
    "import tensorflow as tf\n",
    "\n",
    "def KernelHyperParameterLearning(iteration, learningRate, trainingX, trainingY):\n",
    "    numDataPoints = len(trainingY)\n",
    "    numDimension = len(trainingX[0])\n",
    " \n",
    "    # Input and Output Declaration for tensorflow\n",
    "    obsX = tf.placeholder(tf.float32, [numDataPoints,numdimension])\n",
    "    obsY = tf.placeholder(tf.float32, [numDataPoints, 1])\n",
    " \n",
    "    # Learning Parameter Variable Declaration for tensorflow\n",
    "    theta0 = tf.Variable(1.0)\n",
    "    theta1 = tf.Variable(1.0)\n",
    "    theta2 = tf.Variable(1.0)\n",
    "    theta3 = tf.Variable(1.0)\n",
    "    beta = tf.Variable(10.0)\n",
    " \n",
    "    # Kernel building\n",
    "    matCovarianceLinear = []\n",
    "    for i in range(numDataPoints):\n",
    "        for j in range(numDataPoints):\n",
    "            kernelEvaluationResult =kernelFunctionWithTensorflow(theta0, theta1,theta2, theta3, \n",
    "                                                                 tf.slice(obsX, [i,0], [1,numdimension]), \n",
    "                                                                 tf.slice(obsX, [j,0], [1,numDimension]))\n",
    "            if i != j:\n",
    "                matCovarianceLinear.append(kernelEvaluationResult)\n",
    "            if i == j:\n",
    "                matCovarianceLinear.append(kernelEvaluationResult+tf.div(1.0,beta))\n",
    "    matCovarianceCombined =tf.pack(matCovarianceLinear)\n",
    "    matCovariance =tf.reshape(matCovarianceCombined, [numDataPoints, numDataPoints])\n",
    "    matCovarianceInv =tf.inv(matCovariance)\n",
    "\n",
    "def KernelFunctionWithTensorflow(theta0, theta1, theta2, theta3, X1,X2):\n",
    "    insideexp1 = tf.mul(tf.div(theta1, 2.0), np.dot((X1-X2), (X1-X2)))\n",
    "    insideexp2 = theta2\n",
    "    insideexp3 = tf.mul(theta3, np.dot(np.transpose(X1), X2))\n",
    "    insideexp = tf.add(tf.add(insideexp1, insideexp2),insideexp3)\n",
    "    ret = tf.mul(theta0, tf.exp(insideexp))\n",
    "    return ret"
   ]
  },
  {
   "cell_type": "code",
   "execution_count": null,
   "metadata": {
    "collapsed": true
   },
   "outputs": [],
   "source": []
  }
 ],
 "metadata": {
  "kernelspec": {
   "display_name": "Python [conda env:tensorflow]",
   "language": "python",
   "name": "conda-env-tensorflow-py"
  },
  "language_info": {
   "codemirror_mode": {
    "name": "ipython",
    "version": 3
   },
   "file_extension": ".py",
   "mimetype": "text/x-python",
   "name": "python",
   "nbconvert_exporter": "python",
   "pygments_lexer": "ipython3",
   "version": "3.5.3"
  }
 },
 "nbformat": 4,
 "nbformat_minor": 2
}
