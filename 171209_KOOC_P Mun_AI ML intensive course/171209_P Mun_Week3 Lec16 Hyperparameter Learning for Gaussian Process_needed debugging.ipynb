{
 "cells": [
  {
   "cell_type": "code",
   "execution_count": 23,
   "metadata": {
    "collapsed": true
   },
   "outputs": [],
   "source": [
    "import numpy as np\n",
    "import pandas as pd\n",
    "import matplotlib\n",
    "import matplotlib.pyplot as plt\n",
    "from matplotlib import style\n",
    "import tensorflow as tf\n",
    "# from mylib.PMun_Week3Lec16PP import KernelHyperParameterLearning\n",
    "# from mylib.PMun_Week3Lec16PP import KernelFunctionWithTensorflow\n",
    "\n",
    "\n",
    "# 미완성 코드임.\n",
    "# 차 후 Hyperparameter Learning for Gaussian Process 미션에서 뼈대로 쓰일 수 있다.\n"
   ]
  },
  {
   "cell_type": "code",
   "execution_count": 24,
   "metadata": {
    "collapsed": true
   },
   "outputs": [],
   "source": [
    "\n",
    "def KernelFunctionWithTensorflow(theta0, theta1, theta2, theta3, X1,X2):\n",
    "    insideexp1 = tf.mul(tf.div(theta1, 2.0), np.dot((X1-X2), (X1-X2)))\n",
    "    insideexp2 = theta2\n",
    "    insideexp3 = tf.mul(theta3, np.dot(np.transpose(X1), X2))\n",
    "    insideexp = tf.add(tf.add(insideexp1, insideexp2),insideexp3)\n",
    "    ret = tf.mul(theta0, tf.exp(insideexp))\n",
    "    return ret\n"
   ]
  },
  {
   "cell_type": "code",
   "execution_count": 25,
   "metadata": {
    "collapsed": true
   },
   "outputs": [],
   "source": [
    "\n",
    "def KernelHyperParameterLearning(iteration, learningRate, trainingX, trainingY):\n",
    "    numDataPoints = len(trainingY)\n",
    "    numDimension = len(trainingX[0])\n",
    " \n",
    "    # Input and Output Declaration for tensorflow\n",
    "    obsX = tf.placeholder(tf.float32, [numDataPoints,numdimension])\n",
    "    obsY = tf.placeholder(tf.float32, [numDataPoints, 1])\n",
    " \n",
    "    # Learning Parameter Variable Declaration for tensorflow\n",
    "    theta0 = tf.Variable(1.0)\n",
    "    theta1 = tf.Variable(1.0)\n",
    "    theta2 = tf.Variable(1.0)\n",
    "    theta3 = tf.Variable(1.0)\n",
    "    beta = tf.Variable(10.0)\n",
    " \n",
    "    # Kernel building\n",
    "    matCovarianceLinear = []\n",
    "    for i in range(numDataPoints):\n",
    "        for j in range(numDataPoints):\n",
    "            kernelEvaluationResult =kernelFunctionWithTensorflow(theta0, theta1,theta2, theta3, \n",
    "                                                                 tf.slice(obsX, [i,0], [1,numdimension]), \n",
    "                                                                 tf.slice(obsX, [j,0], [1,numDimension]))\n",
    "            if i != j:\n",
    "                matCovarianceLinear.append(kernelEvaluationResult)\n",
    "            if i == j:\n",
    "                matCovarianceLinear.append(kernelEvaluationResult + tf.div(1.0,beta))\n",
    "    matCovarianceCombined =tf.pack(matCovarianceLinear)\n",
    "    matCovariance =tf.reshape(matCovarianceCombined, [numDataPoints, numDataPoints])\n",
    "    matCovarianceInv =tf.inv(matCovariance)\n",
    "    "
   ]
  },
  {
   "cell_type": "code",
   "execution_count": 27,
   "metadata": {},
   "outputs": [
    {
     "ename": "NameError",
     "evalue": "name 'learningRate' is not defined",
     "output_type": "error",
     "traceback": [
      "\u001b[1;31m---------------------------------------------------------------------------\u001b[0m",
      "\u001b[1;31mNameError\u001b[0m                                 Traceback (most recent call last)",
      "\u001b[1;32m<ipython-input-27-7243cf246aff>\u001b[0m in \u001b[0;36m<module>\u001b[1;34m()\u001b[0m\n\u001b[0;32m     28\u001b[0m \u001b[1;33m\u001b[0m\u001b[0m\n\u001b[0;32m     29\u001b[0m \u001b[1;31m# Training session declaration\u001b[0m\u001b[1;33m\u001b[0m\u001b[1;33m\u001b[0m\u001b[0m\n\u001b[1;32m---> 30\u001b[1;33m \u001b[0mtraining\u001b[0m\u001b[1;33m=\u001b[0m\u001b[0mtf\u001b[0m\u001b[1;33m.\u001b[0m\u001b[0mtrain\u001b[0m\u001b[1;33m.\u001b[0m\u001b[0mGradientDescentOptimizer\u001b[0m\u001b[1;33m(\u001b[0m\u001b[0mlearningRate\u001b[0m\u001b[1;33m)\u001b[0m\u001b[1;33m.\u001b[0m\u001b[0mninimize\u001b[0m\u001b[1;33m(\u001b[0m\u001b[0mnegloglikelihood\u001b[0m\u001b[1;33m)\u001b[0m\u001b[1;33m\u001b[0m\u001b[0m\n\u001b[0m",
      "\u001b[1;31mNameError\u001b[0m: name 'learningRate' is not defined"
     ]
    }
   ],
   "source": [
    "\n",
    "# Prediction\n",
    "negloglikelihood = 0.0\n",
    "for i in range(numDataPoints):\n",
    "    k = tf.Variable(tf.ones([numDataPoints]))\n",
    "    for j in range(numDataPoints):\n",
    "        kernelEvaluationResult = kernelFunctionWithTensorflow(theta0, theta1,theta2, theta3, \n",
    "                                                             tf.slice(obsX, [i,0], [1,numdimension]), \n",
    "                                                             tf.slice(obsX, [j,0], [1,numDimension]))\n",
    "        indices = tf.constant([j])\n",
    "        tempTensor = tf.Variable(tf.zeros([1]))\n",
    "        tempTensor = tf.add(tempTensor,kernelEvaluationResult)\n",
    "        tf.scatter_update(k, tf.reshape(indices, [1,1]),tempTensor)\n",
    "                    \n",
    "    c = tf.Variable(tf.zeros([1,1]))\n",
    "    kernelEvaluationResult = kernelFunctionWithTensorflow(theta0, theta1,theta2, theta3, \n",
    "                                                          tf.slice(obsX, [i,0], [1,numdimension]), \n",
    "                                                          tf.slice(obsX, [j,0], [1,numDimension]))\n",
    "    c = tf.div(tf.add(tf.add(c, kernelEvaluationResult), 1), beta)\n",
    "    \n",
    "    k = tf.reshape(k, [1, numDataPoints])\n",
    "        \n",
    "    predictionMu = tf.matmul(k, tf.matmul(matCovarianceInv, obsY))\n",
    "    predictionVar = tf.sub(c, tf.matmul(k,tf.matmul(matCovarianceInv, tf.transpose(k))))\n",
    "        \n",
    "    negloglikelihood = tf.add(negloglikelihood, tf.div(tf.pow(tf.sub(predictionMu,tf.slice(obsY, [i,0], [1,1])), 2), \n",
    "                                                       tf.scalar_mul(tf.constant(2,0),predictionVar)))\n",
    "\n",
    "# Training session declaration\n",
    "training=tf.train.GradientDescentOptimizer(learningRate).ninimize(negloglikelihood)\n"
   ]
  },
  {
   "cell_type": "code",
   "execution_count": null,
   "metadata": {
    "collapsed": true
   },
   "outputs": [],
   "source": []
  }
 ],
 "metadata": {
  "kernelspec": {
   "display_name": "Python [conda env:tensorflow]",
   "language": "python",
   "name": "conda-env-tensorflow-py"
  },
  "language_info": {
   "codemirror_mode": {
    "name": "ipython",
    "version": 3
   },
   "file_extension": ".py",
   "mimetype": "text/x-python",
   "name": "python",
   "nbconvert_exporter": "python",
   "pygments_lexer": "ipython3",
   "version": "3.5.3"
  }
 },
 "nbformat": 4,
 "nbformat_minor": 2
}
