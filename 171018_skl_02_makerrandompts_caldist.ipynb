{
 "cells": [
  {
   "cell_type": "code",
   "execution_count": 2,
   "metadata": {},
   "outputs": [
    {
     "data": {
      "text/plain": [
       "<matplotlib.collections.PathCollection at 0x289b47874e0>"
      ]
     },
     "execution_count": 2,
     "metadata": {},
     "output_type": "execute_result"
    },
    {
     "data": {
      "image/png": "[encoded data removed]",
      "text/plain": [
       "<matplotlib.figure.Figure at 0x289b0c4e0f0>"
      ]
     },
     "metadata": {},
     "output_type": "display_data"
    }
   ],
   "source": [
    "# 계측적 클러스터링\n",
    "# 응집형(Agglomerative) 계층적 클러스터링 기법\n",
    "\n",
    "%matplotlib inline\n",
    "#import tensorflow as tf\n",
    "import numpy as np\n",
    "import pandas as pd\n",
    "import seaborn as sns\n",
    "import matplotlib\n",
    "import matplotlib.pyplot as plt\n",
    "from matplotlib import style\n",
    "\n",
    "# 회귀 분석 - 선형 회귀\n",
    "from sklearn.linear_model import LinearRegression\n",
    "\n",
    "#회귀 분석 - 다항 회귀\n",
    "from sklearn.preprocessing import PolynomialFeatures\n",
    "\n",
    "# MSE : 평균제곱오차, 작을 수록 오차가 작다.\n",
    "# R2 : 결정 계수, 1에 가까울 수록 적합도가 좋음 \n",
    "from sklearn.metrics import mean_squared_error\n",
    "from sklearn.metrics import r2_score\n",
    "\n",
    "# 회귀 분석 - 의사결정트리/랜덤포레스트\n",
    "from sklearn.tree import DecisionTreeRegressor\n",
    "from sklearn.ensemble import RandomForestRegressor\n",
    "\n",
    "# 교차 검증(Cross Vaildation)\n",
    "#from sklearn.cross_validation import train_test_split\n",
    "\n",
    "# k-means 클러스터링\n",
    "from sklearn.datasets import make_blobs\n",
    "from sklearn.cluster import KMeans\n",
    "from sklearn.metrics import silhouette_samples\n",
    "from matplotlib import cm\n",
    "\n",
    "# 계층적 클러스터링\n",
    "from scipy.spatial.distance import pdist, squareform\n",
    "from scipy.cluster.hierarchy import linkage # 응집형(Agglomerative)\n",
    "from scipy.cluster.hierarchy import dendrogram # 응집형(Agglomerative) \n",
    "from sklearn.cluster import AgglomerativeClustering # 응집형(Agglomerative) \n",
    "\n",
    "\n",
    "style.use('seaborn-talk')\n",
    "\n",
    "krfont = {'family':'HYGothic-Medium', 'weight':'bold', 'size':10}\n",
    "matplotlib.rc('font', **krfont)\n",
    "matplotlib.rcParams['axes.unicode_minus'] = False\n",
    "\n",
    "\n",
    "np.random.seed(111)\n",
    "var = ['X', 'Y']\n",
    "labels = ['점0', '점1', '점2', '점3', '점4', '점5', '점6', '점7', '점8', '점9']\n",
    "X = np.random.random_sample([10,2])*10\n",
    "df = pd.DataFrame(X, columns=var, index=labels)\n",
    "\n",
    "\n",
    "plt.scatter(X[:, 0], X[:, 1], c='blue', marker='o', s=50)\n"
   ]
  },
  {
   "cell_type": "code",
   "execution_count": 3,
   "metadata": {},
   "outputs": [
    {
     "name": "stdout",
     "output_type": "stream",
     "text": [
      "          점0        점1        점2        점3        점4         점5         점6  \\\n",
      "점0  0.000000  6.254970  3.174696  6.409487  4.097740   3.847181   7.297040   \n",
      "점1  6.254970  0.000000  6.358690  5.411807  4.745963   7.682259   3.685956   \n",
      "점2  3.174696  6.358690  0.000000  3.846035  1.968201   7.010041   5.627679   \n",
      "점3  6.409487  5.411807  3.846035  0.000000  2.314338   9.852831   2.561945   \n",
      "점4  4.097740  4.745963  1.968201  2.314338  0.000000   7.586406   3.674096   \n",
      "점5  3.847181  7.682259  7.010041  9.852831  7.586406   0.000000  10.068472   \n",
      "점6  7.297040  3.685956  5.627679  2.561945  3.674096  10.068472   0.000000   \n",
      "점7  1.055743  5.285139  3.490988  6.163007  3.877791   3.712708   6.692931   \n",
      "점8  1.545048  6.515932  1.736486  5.366800  3.160088   5.379009   6.723871   \n",
      "점9  9.083304  3.852438  7.835325  4.832992  5.867163  11.314026   2.312871   \n",
      "\n",
      "          점7        점8         점9  \n",
      "점0  1.055743  1.545048   9.083304  \n",
      "점1  5.285139  6.515932   3.852438  \n",
      "점2  3.490988  1.736486   7.835325  \n",
      "점3  6.163007  5.366800   4.832992  \n",
      "점4  3.877791  3.160088   5.867163  \n",
      "점5  3.712708  5.379009  11.314026  \n",
      "점6  6.692931  6.723871   2.312871  \n",
      "점7  0.000000  2.198455   8.318951  \n",
      "점8  2.198455  0.000000   8.752318  \n",
      "점9  8.318951  8.752318   0.000000  \n"
     ]
    }
   ],
   "source": [
    "\n",
    "distmatrix = pdist(df, metric='euclidean')\n",
    "row_dist = pd.DataFrame(squareform(distmatrix), columns=labels, index=labels)\n",
    "\n",
    "\n",
    "print(row_dist)\n"
   ]
  },
  {
   "cell_type": "code",
   "execution_count": 4,
   "metadata": {},
   "outputs": [
    {
     "data": {
      "text/html": [
       "<div>\n",
       "<style>\n",
       "    .dataframe thead tr:only-child th {\n",
       "        text-align: right;\n",
       "    }\n",
       "\n",
       "    .dataframe thead th {\n",
       "        text-align: left;\n",
       "    }\n",
       "\n",
       "    .dataframe tbody tr th {\n",
       "        vertical-align: top;\n",
       "    }\n",
       "</style>\n",
       "<table border=\"1\" class=\"dataframe\">\n",
       "  <thead>\n",
       "    <tr style=\"text-align: right;\">\n",
       "      <th></th>\n",
       "      <th>클러스터ID_1</th>\n",
       "      <th>클러스터ID_2</th>\n",
       "      <th>거리</th>\n",
       "      <th>클러스터 멤버수</th>\n",
       "    </tr>\n",
       "  </thead>\n",
       "  <tbody>\n",
       "    <tr>\n",
       "      <th>클러스터 1</th>\n",
       "      <td>0.0</td>\n",
       "      <td>7.0</td>\n",
       "      <td>1.055743</td>\n",
       "      <td>2.0</td>\n",
       "    </tr>\n",
       "    <tr>\n",
       "      <th>클러스터 2</th>\n",
       "      <td>2.0</td>\n",
       "      <td>8.0</td>\n",
       "      <td>1.736486</td>\n",
       "      <td>2.0</td>\n",
       "    </tr>\n",
       "    <tr>\n",
       "      <th>클러스터 3</th>\n",
       "      <td>6.0</td>\n",
       "      <td>9.0</td>\n",
       "      <td>2.312871</td>\n",
       "      <td>2.0</td>\n",
       "    </tr>\n",
       "    <tr>\n",
       "      <th>클러스터 4</th>\n",
       "      <td>3.0</td>\n",
       "      <td>4.0</td>\n",
       "      <td>2.314338</td>\n",
       "      <td>2.0</td>\n",
       "    </tr>\n",
       "    <tr>\n",
       "      <th>클러스터 5</th>\n",
       "      <td>10.0</td>\n",
       "      <td>11.0</td>\n",
       "      <td>3.490988</td>\n",
       "      <td>4.0</td>\n",
       "    </tr>\n",
       "    <tr>\n",
       "      <th>클러스터 6</th>\n",
       "      <td>1.0</td>\n",
       "      <td>12.0</td>\n",
       "      <td>3.852438</td>\n",
       "      <td>3.0</td>\n",
       "    </tr>\n",
       "    <tr>\n",
       "      <th>클러스터 7</th>\n",
       "      <td>13.0</td>\n",
       "      <td>15.0</td>\n",
       "      <td>5.867163</td>\n",
       "      <td>5.0</td>\n",
       "    </tr>\n",
       "    <tr>\n",
       "      <th>클러스터 8</th>\n",
       "      <td>5.0</td>\n",
       "      <td>14.0</td>\n",
       "      <td>7.010041</td>\n",
       "      <td>5.0</td>\n",
       "    </tr>\n",
       "    <tr>\n",
       "      <th>클러스터 9</th>\n",
       "      <td>16.0</td>\n",
       "      <td>17.0</td>\n",
       "      <td>11.314026</td>\n",
       "      <td>10.0</td>\n",
       "    </tr>\n",
       "  </tbody>\n",
       "</table>\n",
       "</div>"
      ],
      "text/plain": [
       "        클러스터ID_1  클러스터ID_2         거리  클러스터 멤버수\n",
       "클러스터 1       0.0       7.0   1.055743       2.0\n",
       "클러스터 2       2.0       8.0   1.736486       2.0\n",
       "클러스터 3       6.0       9.0   2.312871       2.0\n",
       "클러스터 4       3.0       4.0   2.314338       2.0\n",
       "클러스터 5      10.0      11.0   3.490988       4.0\n",
       "클러스터 6       1.0      12.0   3.852438       3.0\n",
       "클러스터 7      13.0      15.0   5.867163       5.0\n",
       "클러스터 8       5.0      14.0   7.010041       5.0\n",
       "클러스터 9      16.0      17.0  11.314026      10.0"
      ]
     },
     "execution_count": 4,
     "metadata": {},
     "output_type": "execute_result"
    }
   ],
   "source": [
    "\n",
    "row_clusters = linkage(distmatrix, method='complete')\n",
    "#row_clusters = linkage(df.values, method='complete', metric='euclidean)\n",
    "\n",
    "pd.DataFrame(row_clusters,\n",
    "            columns=['클러스터ID_1', '클러스터ID_2', '거리', '클러스터 멤버수'],\n",
    "            index=['클러스터 %d' %(i+1) for i in range(row_clusters.shape[0])])\n"
   ]
  },
  {
   "cell_type": "code",
   "execution_count": 5,
   "metadata": {},
   "outputs": [
    {
     "data": {
      "image/png": "[encoded data removed]",
      "text/plain": [
       "<matplotlib.figure.Figure at 0x289b43645c0>"
      ]
     },
     "metadata": {},
     "output_type": "display_data"
    }
   ],
   "source": [
    "# 덴드로그램(dendregram, 계통도)\n",
    "\n",
    "row_dendr = dendrogram(row_clusters, labels=labels)\n",
    "\n",
    "\n",
    "plt.tight_layout()\n",
    "plt.ylabel('유클리드 거리')\n",
    "plt.show()\n"
   ]
  },
  {
   "cell_type": "code",
   "execution_count": 6,
   "metadata": {
    "collapsed": true
   },
   "outputs": [],
   "source": [
    "# heatmap 표시를 원할 경우 활성화\n",
    "#cm = np.corrcoef(df[labels].values.T)\n",
    "#sns.set(font_scale=1.5)\n",
    "#hm = sns.heatmap(cm, cbar=True, annot=True, square=True, fmt='.2f', annot_kws={'size': 15}, yticklabels=labels, xticklabels=var)\n",
    "#plt.show()\n",
    "\n",
    "# 히트맵으로 표현하기 [M24]\n",
    "# 일단은 구현 하였음"
   ]
  },
  {
   "cell_type": "code",
   "execution_count": 7,
   "metadata": {},
   "outputs": [
    {
     "data": {
      "text/plain": [
       "array([[ 6.12170176,  1.69069754],\n",
       "       [ 4.36059019,  7.69262473],\n",
       "       [ 2.95325304,  1.49162957],\n",
       "       [ 0.22478325,  4.20224492],\n",
       "       [ 2.38682141,  3.37656192],\n",
       "       [ 9.90712465,  2.37726454],\n",
       "       [ 0.81192659,  6.69600238],\n",
       "       [ 6.21242919,  2.7425353 ],\n",
       "       [ 4.6622141 ,  1.18367751],\n",
       "       [ 0.73957564,  9.00774179]])"
      ]
     },
     "execution_count": 7,
     "metadata": {},
     "output_type": "execute_result"
    }
   ],
   "source": [
    "X"
   ]
  },
  {
   "cell_type": "code",
   "execution_count": 20,
   "metadata": {},
   "outputs": [
    {
     "data": {
      "image/png": "[encoded data removed]",
      "text/plain": [
       "<matplotlib.figure.Figure at 0x289b4813be0>"
      ]
     },
     "metadata": {},
     "output_type": "display_data"
    }
   ],
   "source": [
    "# 히트맵 구현\n",
    "\n",
    "fig = plt.figure(figsize=(8, 8))\n",
    "#axd = fig.add_axes([6.12170176, 4.36059019, 2.95325304, 0.22478325, 2.38682141, 9.90712465, 0.81192659, 6.21242919, 4.6622141, 0.73957564])\n",
    "axd = fig.add_axes([0.09, 0.1, 0.3, 0.6])\n",
    "row_dendr = dendrogram(row_clusters, orientation='left')\n",
    "\n",
    "df_rowclust = df.ix[row_dendr['leaves'][::-1]]\n",
    "#axm = fig.add_axes([1.69069754, 7.69262473, 1.49162957, 4.20224492, 3.37656192, 2.37726454, 6.69600238, 2.7425353, 1.18367751, 9.00774179])\n",
    "axm = fig.add_axes([0.23, 0.1, 0.6, 0.6])\n",
    "cax = axm.matshow(df_rowclust, interpolation='nearest', cmap='hot_r')\n",
    "\n",
    "#axd.set_xticks([])\n",
    "#axd.set_yticks([])\n",
    "\n",
    "for i in axd.spines.values():\n",
    "    i.set_visible(False)\n",
    "    \n",
    "fig.colorbar(cax)\n",
    "axm.set_xticklabels([''] + list(df_rowclust.columns))\n",
    "axm.set_yticklabels([''] + list(df_rowclust.index))\n",
    "\n",
    "plt.show()"
   ]
  },
  {
   "cell_type": "code",
   "execution_count": 9,
   "metadata": {},
   "outputs": [
    {
     "name": "stdout",
     "output_type": "stream",
     "text": [
      "클러스터 분류 결과:  [0 1 0 1 1 0 1 0 0 1]\n"
     ]
    }
   ],
   "source": [
    "# AgglomerativeClustering라는 sklearn 인자를 사용하여 응집형 계층적 클러스터링 수행\n",
    "# scipy와 scikit-learn을 사용했을 때 동일한 결과가 나옴을 확인하였음.\n",
    "\n",
    "ac = AgglomerativeClustering(n_clusters=2, affinity='euclidean', linkage='complete')\n",
    "labels = ac.fit_predict(X)\n",
    "\n",
    "\n",
    "print('클러스터 분류 결과: ', labels)\n",
    "\n",
    "# 클러스터 개수를 먼저 지정하지 않고 만들어야 하는 것 아닌가? [M25]\n",
    "# AgglomerativeClustering 인자 확인 후 디폴트값이 n_culsters=2 임을 확인\n",
    "# 조금 찝찝한 기분이다."
   ]
  },
  {
   "cell_type": "code",
   "execution_count": null,
   "metadata": {
    "collapsed": true
   },
   "outputs": [],
   "source": []
  }
 ],
 "metadata": {
  "kernelspec": {
   "display_name": "Python [conda env:tensorflow]",
   "language": "python",
   "name": "conda-env-tensorflow-py"
  },
  "language_info": {
   "codemirror_mode": {
    "name": "ipython",
    "version": 3
   },
   "file_extension": ".py",
   "mimetype": "text/x-python",
   "name": "python",
   "nbconvert_exporter": "python",
   "pygments_lexer": "ipython3",
   "version": "3.5.3"
  }
 },
 "nbformat": 4,
 "nbformat_minor": 2
}
